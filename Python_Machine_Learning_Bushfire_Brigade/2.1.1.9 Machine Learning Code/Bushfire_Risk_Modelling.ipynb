{
 "cells": [
  {
   "cell_type": "code",
   "execution_count": 1,
   "id": "08e24cf5",
   "metadata": {},
   "outputs": [
    {
     "name": "stdout",
     "output_type": "stream",
     "text": [
      "Requirement already satisfied: joblib in c:\\users\\thinithi\\anaconda3\\lib\\site-packages (1.2.0)\n"
     ]
    }
   ],
   "source": [
    "!pip install joblib"
   ]
  },
  {
   "cell_type": "code",
   "execution_count": 1,
   "id": "15ac5f9b",
   "metadata": {},
   "outputs": [],
   "source": [
    "import os  # cheeck currently directory\n",
    "import pandas as pd  # Load pandas library for data wrangling\n",
    "# to convert weather station to a numeric number\n",
    "from sklearn.preprocessing import LabelEncoder\n",
    "# Split dataset and conduct cross-validation\n",
    "from sklearn.model_selection import train_test_split, cross_val_score\n",
    "# build a randomn forest model model\n",
    "from sklearn.ensemble import RandomForestClassifier\n",
    "from sklearn.metrics import precision_score, recall_score, f1_score, accuracy_score, confusion_matrix, classification_report\n",
    "from IPython.display import display\n",
    "from sklearn.preprocessing import StandardScaler  # Standardize column\n",
    "# build a logisitic regression model\n",
    "from sklearn.linear_model import LogisticRegression\n",
    "from sklearn.tree import DecisionTreeClassifier  # build a decision tree model\n",
    "# build a gradient boosting model\n",
    "from sklearn.ensemble import GradientBoostingClassifier\n",
    "from sklearn.neighbors import KNeighborsClassifier  # build a knn model\n",
    "from sklearn.svm import SVC  # Build a svm model\n",
    "from sklearn.naive_bayes import GaussianNB  # build naive bayes model\n",
    "from collections import Counter  # obtain counts\n",
    "import matplotlib.pyplot as plt  # plot correlation matrix\n",
    "import seaborn as sns  # plot feature importance\n",
    "import joblib  # save model\n",
    "# utilize calss weight balancing in models\n",
    "from sklearn.utils.class_weight import compute_class_weight\n",
    "from PIL import Image  # Import model evaluation report image\n",
    "from sklearn.model_selection import GridSearchCV  # conduct hyper parameter tuning"
   ]
  },
  {
   "cell_type": "code",
   "execution_count": null,
   "id": "78e962a7",
   "metadata": {},
   "outputs": [],
   "source": [
    "# Get the current working directory\n",
    "current_directory = os.getcwd()\n",
    "current_directory"
   ]
  },
  {
   "cell_type": "markdown",
   "id": "d7e57db5",
   "metadata": {},
   "source": [
    "# Data Exploration"
   ]
  },
  {
   "cell_type": "code",
   "execution_count": 2,
   "id": "702bc9ea",
   "metadata": {},
   "outputs": [
    {
     "data": {
      "text/html": [
       "<div>\n",
       "<style scoped>\n",
       "    .dataframe tbody tr th:only-of-type {\n",
       "        vertical-align: middle;\n",
       "    }\n",
       "\n",
       "    .dataframe tbody tr th {\n",
       "        vertical-align: top;\n",
       "    }\n",
       "\n",
       "    .dataframe thead th {\n",
       "        text-align: right;\n",
       "    }\n",
       "</style>\n",
       "<table border=\"1\" class=\"dataframe\">\n",
       "  <thead>\n",
       "    <tr style=\"text-align: right;\">\n",
       "      <th></th>\n",
       "      <th>Page_URL</th>\n",
       "      <th>Page_title</th>\n",
       "      <th>Date</th>\n",
       "      <th>Day</th>\n",
       "      <th>Temps_Min</th>\n",
       "      <th>Temps_Max</th>\n",
       "      <th>Rain</th>\n",
       "      <th>AM9_Temp</th>\n",
       "      <th>AM9_RH</th>\n",
       "      <th>AM9_Dir</th>\n",
       "      <th>AM9_Spd</th>\n",
       "      <th>PM3_Temp</th>\n",
       "      <th>PM3_RH</th>\n",
       "      <th>PM3_Dir</th>\n",
       "      <th>PM3_Spd</th>\n",
       "      <th>KEY</th>\n",
       "    </tr>\n",
       "  </thead>\n",
       "  <tbody>\n",
       "    <tr>\n",
       "      <th>0</th>\n",
       "      <td>201401</td>\n",
       "      <td>Benalla</td>\n",
       "      <td>1</td>\n",
       "      <td>We</td>\n",
       "      <td>9.8</td>\n",
       "      <td>26.9</td>\n",
       "      <td>0.0</td>\n",
       "      <td>21.1</td>\n",
       "      <td>37</td>\n",
       "      <td>SE</td>\n",
       "      <td>7.0</td>\n",
       "      <td>25.8</td>\n",
       "      <td>31</td>\n",
       "      <td>E</td>\n",
       "      <td>4.0</td>\n",
       "      <td>20140101</td>\n",
       "    </tr>\n",
       "    <tr>\n",
       "      <th>1</th>\n",
       "      <td>201401</td>\n",
       "      <td>Benalla</td>\n",
       "      <td>2</td>\n",
       "      <td>Th</td>\n",
       "      <td>14.9</td>\n",
       "      <td>25.9</td>\n",
       "      <td>3.6</td>\n",
       "      <td>19.0</td>\n",
       "      <td>72</td>\n",
       "      <td>SSW</td>\n",
       "      <td>4.0</td>\n",
       "      <td>24.4</td>\n",
       "      <td>36</td>\n",
       "      <td>WNW</td>\n",
       "      <td>4.0</td>\n",
       "      <td>20140102</td>\n",
       "    </tr>\n",
       "    <tr>\n",
       "      <th>2</th>\n",
       "      <td>201401</td>\n",
       "      <td>Benalla</td>\n",
       "      <td>3</td>\n",
       "      <td>Fr</td>\n",
       "      <td>15.8</td>\n",
       "      <td>30.2</td>\n",
       "      <td>0.0</td>\n",
       "      <td>22.0</td>\n",
       "      <td>35</td>\n",
       "      <td>SSE</td>\n",
       "      <td>4.0</td>\n",
       "      <td>25.5</td>\n",
       "      <td>35</td>\n",
       "      <td>WNW</td>\n",
       "      <td>9.0</td>\n",
       "      <td>20140103</td>\n",
       "    </tr>\n",
       "    <tr>\n",
       "      <th>3</th>\n",
       "      <td>201401</td>\n",
       "      <td>Benalla</td>\n",
       "      <td>4</td>\n",
       "      <td>Sa</td>\n",
       "      <td>11.4</td>\n",
       "      <td>25.0</td>\n",
       "      <td>0.0</td>\n",
       "      <td>15.5</td>\n",
       "      <td>51</td>\n",
       "      <td>SSW</td>\n",
       "      <td>6.0</td>\n",
       "      <td>22.9</td>\n",
       "      <td>28</td>\n",
       "      <td>W</td>\n",
       "      <td>13.0</td>\n",
       "      <td>20140104</td>\n",
       "    </tr>\n",
       "    <tr>\n",
       "      <th>4</th>\n",
       "      <td>201401</td>\n",
       "      <td>Benalla</td>\n",
       "      <td>7</td>\n",
       "      <td>Tu</td>\n",
       "      <td>9.2</td>\n",
       "      <td>25.9</td>\n",
       "      <td>0.0</td>\n",
       "      <td>15.0</td>\n",
       "      <td>43</td>\n",
       "      <td>S</td>\n",
       "      <td>19.0</td>\n",
       "      <td>23.9</td>\n",
       "      <td>25</td>\n",
       "      <td>SSE</td>\n",
       "      <td>11.0</td>\n",
       "      <td>20140107</td>\n",
       "    </tr>\n",
       "  </tbody>\n",
       "</table>\n",
       "</div>"
      ],
      "text/plain": [
       "   Page_URL Page_title  Date Day  Temps_Min  Temps_Max  Rain  AM9_Temp  \\\n",
       "0    201401    Benalla     1  We        9.8       26.9   0.0      21.1   \n",
       "1    201401    Benalla     2  Th       14.9       25.9   3.6      19.0   \n",
       "2    201401    Benalla     3  Fr       15.8       30.2   0.0      22.0   \n",
       "3    201401    Benalla     4  Sa       11.4       25.0   0.0      15.5   \n",
       "4    201401    Benalla     7  Tu        9.2       25.9   0.0      15.0   \n",
       "\n",
       "   AM9_RH AM9_Dir  AM9_Spd  PM3_Temp  PM3_RH PM3_Dir  PM3_Spd       KEY  \n",
       "0      37      SE      7.0      25.8      31       E      4.0  20140101  \n",
       "1      72     SSW      4.0      24.4      36     WNW      4.0  20140102  \n",
       "2      35     SSE      4.0      25.5      35     WNW      9.0  20140103  \n",
       "3      51     SSW      6.0      22.9      28       W     13.0  20140104  \n",
       "4      43       S     19.0      23.9      25     SSE     11.0  20140107  "
      ]
     },
     "execution_count": 2,
     "metadata": {},
     "output_type": "execute_result"
    }
   ],
   "source": [
    "file_path = 'Bushfire_Weather_data.xlsx'\n",
    "\n",
    "# Read the Excel file into a DataFrame\n",
    "df = pd.read_excel(file_path)\n",
    "df.head()"
   ]
  },
  {
   "cell_type": "code",
   "execution_count": 3,
   "id": "3a72e736",
   "metadata": {},
   "outputs": [
    {
     "data": {
      "text/plain": [
       "Page_URL      20021\n",
       "Page_title    20021\n",
       "Date          20021\n",
       "Day           20021\n",
       "Temps_Min     20021\n",
       "Temps_Max     20021\n",
       "Rain          20021\n",
       "AM9_Temp      20021\n",
       "AM9_RH        20021\n",
       "AM9_Dir       20015\n",
       "AM9_Spd       20021\n",
       "PM3_Temp      20021\n",
       "PM3_RH        20021\n",
       "PM3_Dir       20011\n",
       "PM3_Spd       20021\n",
       "KEY           20021\n",
       "dtype: int64"
      ]
     },
     "execution_count": 3,
     "metadata": {},
     "output_type": "execute_result"
    }
   ],
   "source": [
    "df.count()"
   ]
  },
  {
   "cell_type": "code",
   "execution_count": 4,
   "id": "d1d390af",
   "metadata": {},
   "outputs": [
    {
     "data": {
      "text/html": [
       "<div>\n",
       "<style scoped>\n",
       "    .dataframe tbody tr th:only-of-type {\n",
       "        vertical-align: middle;\n",
       "    }\n",
       "\n",
       "    .dataframe tbody tr th {\n",
       "        vertical-align: top;\n",
       "    }\n",
       "\n",
       "    .dataframe thead th {\n",
       "        text-align: right;\n",
       "    }\n",
       "</style>\n",
       "<table border=\"1\" class=\"dataframe\">\n",
       "  <thead>\n",
       "    <tr style=\"text-align: right;\">\n",
       "      <th></th>\n",
       "      <th>FIRETYPE</th>\n",
       "      <th>SEASON</th>\n",
       "      <th>FIRE_NO</th>\n",
       "      <th>NAME</th>\n",
       "      <th>START_DATE</th>\n",
       "      <th>STRTDATIT</th>\n",
       "      <th>TREAT_TYPE</th>\n",
       "      <th>FIREKEY</th>\n",
       "      <th>DSE_ID</th>\n",
       "      <th>CFA_ID</th>\n",
       "      <th>AREA_HA</th>\n",
       "      <th>latitude</th>\n",
       "      <th>longitude</th>\n",
       "      <th>WStation</th>\n",
       "      <th>Year</th>\n",
       "      <th>Month</th>\n",
       "      <th>Day</th>\n",
       "    </tr>\n",
       "  </thead>\n",
       "  <tbody>\n",
       "    <tr>\n",
       "      <th>0</th>\n",
       "      <td>BUSHFIRE</td>\n",
       "      <td>2017</td>\n",
       "      <td>32</td>\n",
       "      <td>BARANDUDA - BARANDUDA RANGE TRACK</td>\n",
       "      <td>3/2/2017</td>\n",
       "      <td>20170302</td>\n",
       "      <td>FIRE</td>\n",
       "      <td>W201734032</td>\n",
       "      <td>920720.0</td>\n",
       "      <td>NaN</td>\n",
       "      <td>0.1570</td>\n",
       "      <td>-36.246909</td>\n",
       "      <td>146.874645</td>\n",
       "      <td>ALBURY AIRPORT AWS</td>\n",
       "      <td>2017</td>\n",
       "      <td>3</td>\n",
       "      <td>2</td>\n",
       "    </tr>\n",
       "    <tr>\n",
       "      <th>1</th>\n",
       "      <td>BUSHFIRE</td>\n",
       "      <td>2017</td>\n",
       "      <td>32</td>\n",
       "      <td>GLENROWAN RIDGE TRACK</td>\n",
       "      <td>12/20/2016</td>\n",
       "      <td>20161220</td>\n",
       "      <td>FIRE</td>\n",
       "      <td>W201737032</td>\n",
       "      <td>917222.0</td>\n",
       "      <td>NaN</td>\n",
       "      <td>1.2163</td>\n",
       "      <td>-36.420704</td>\n",
       "      <td>146.214752</td>\n",
       "      <td>WANGARATTA AERO</td>\n",
       "      <td>2016</td>\n",
       "      <td>12</td>\n",
       "      <td>20</td>\n",
       "    </tr>\n",
       "    <tr>\n",
       "      <th>2</th>\n",
       "      <td>BUSHFIRE</td>\n",
       "      <td>2016</td>\n",
       "      <td>61</td>\n",
       "      <td>MT BRUNO - JONES RD</td>\n",
       "      <td>12/20/2015</td>\n",
       "      <td>20151220</td>\n",
       "      <td>FIRE</td>\n",
       "      <td>W201637061</td>\n",
       "      <td>887780.0</td>\n",
       "      <td>1552677.0</td>\n",
       "      <td>3.3494</td>\n",
       "      <td>-36.339006</td>\n",
       "      <td>146.151911</td>\n",
       "      <td>WANGARATTA AERO</td>\n",
       "      <td>2015</td>\n",
       "      <td>12</td>\n",
       "      <td>20</td>\n",
       "    </tr>\n",
       "    <tr>\n",
       "      <th>3</th>\n",
       "      <td>BUSHFIRE</td>\n",
       "      <td>2018</td>\n",
       "      <td>49</td>\n",
       "      <td>OVENS 49 - BEECHWORTH - WARNERS TRACK</td>\n",
       "      <td>1/23/2018</td>\n",
       "      <td>20180123</td>\n",
       "      <td>FIRE</td>\n",
       "      <td>W201834049</td>\n",
       "      <td>935865.0</td>\n",
       "      <td>NaN</td>\n",
       "      <td>0.0724</td>\n",
       "      <td>-36.270987</td>\n",
       "      <td>146.627895</td>\n",
       "      <td>RUTHERGLEN RESEARCH</td>\n",
       "      <td>2018</td>\n",
       "      <td>1</td>\n",
       "      <td>23</td>\n",
       "    </tr>\n",
       "    <tr>\n",
       "      <th>4</th>\n",
       "      <td>BUSHFIRE</td>\n",
       "      <td>2016</td>\n",
       "      <td>2</td>\n",
       "      <td>BAILIESTON - REEDY LAKE</td>\n",
       "      <td>8/18/2015</td>\n",
       "      <td>20150818</td>\n",
       "      <td>FIRE</td>\n",
       "      <td>W2016992</td>\n",
       "      <td>NaN</td>\n",
       "      <td>NaN</td>\n",
       "      <td>13.9893</td>\n",
       "      <td>-36.713557</td>\n",
       "      <td>145.091987</td>\n",
       "      <td>SHEPPARTON AIRPORT</td>\n",
       "      <td>2015</td>\n",
       "      <td>8</td>\n",
       "      <td>18</td>\n",
       "    </tr>\n",
       "  </tbody>\n",
       "</table>\n",
       "</div>"
      ],
      "text/plain": [
       "   FIRETYPE  SEASON FIRE_NO                                   NAME  \\\n",
       "0  BUSHFIRE    2017      32      BARANDUDA - BARANDUDA RANGE TRACK   \n",
       "1  BUSHFIRE    2017      32                  GLENROWAN RIDGE TRACK   \n",
       "2  BUSHFIRE    2016      61                    MT BRUNO - JONES RD   \n",
       "3  BUSHFIRE    2018      49  OVENS 49 - BEECHWORTH - WARNERS TRACK   \n",
       "4  BUSHFIRE    2016       2                BAILIESTON - REEDY LAKE   \n",
       "\n",
       "   START_DATE  STRTDATIT TREAT_TYPE     FIREKEY    DSE_ID     CFA_ID  AREA_HA  \\\n",
       "0    3/2/2017   20170302       FIRE  W201734032  920720.0        NaN   0.1570   \n",
       "1  12/20/2016   20161220       FIRE  W201737032  917222.0        NaN   1.2163   \n",
       "2  12/20/2015   20151220       FIRE  W201637061  887780.0  1552677.0   3.3494   \n",
       "3   1/23/2018   20180123       FIRE  W201834049  935865.0        NaN   0.0724   \n",
       "4   8/18/2015   20150818       FIRE    W2016992       NaN        NaN  13.9893   \n",
       "\n",
       "    latitude   longitude             WStation  Year  Month  Day  \n",
       "0 -36.246909  146.874645   ALBURY AIRPORT AWS  2017      3    2  \n",
       "1 -36.420704  146.214752      WANGARATTA AERO  2016     12   20  \n",
       "2 -36.339006  146.151911      WANGARATTA AERO  2015     12   20  \n",
       "3 -36.270987  146.627895  RUTHERGLEN RESEARCH  2018      1   23  \n",
       "4 -36.713557  145.091987   SHEPPARTON AIRPORT  2015      8   18  "
      ]
     },
     "execution_count": 4,
     "metadata": {},
     "output_type": "execute_result"
    }
   ],
   "source": [
    "file_path = 'Bushfire_Wstation_2016_2023_01.csv'\n",
    "\n",
    "# Read the CSV file into a DataFrame with a different encoding\n",
    "df2 = pd.read_csv(file_path, encoding='ISO-8859-1')\n",
    "\n",
    "df2.head()"
   ]
  },
  {
   "cell_type": "code",
   "execution_count": 5,
   "id": "a1b2b905",
   "metadata": {},
   "outputs": [
    {
     "data": {
      "text/plain": [
       "FIRETYPE      519\n",
       "SEASON        519\n",
       "FIRE_NO       516\n",
       "NAME          519\n",
       "START_DATE    519\n",
       "STRTDATIT     519\n",
       "TREAT_TYPE    519\n",
       "FIREKEY       493\n",
       "DSE_ID        507\n",
       "CFA_ID         81\n",
       "AREA_HA       519\n",
       "latitude      519\n",
       "longitude     519\n",
       "WStation      519\n",
       "Year          519\n",
       "Month         519\n",
       "Day           519\n",
       "dtype: int64"
      ]
     },
     "execution_count": 5,
     "metadata": {},
     "output_type": "execute_result"
    }
   ],
   "source": [
    "df2.count()"
   ]
  },
  {
   "cell_type": "code",
   "execution_count": 6,
   "id": "707c2ebd",
   "metadata": {},
   "outputs": [],
   "source": [
    "# Rename Wstation\n",
    "df['Page_title'].replace('Wangaratta', 'WANGARATTA', inplace=True)\n",
    "df['Page_title'].replace('Benalla', 'BENALLA', inplace=True)\n",
    "df['Page_title'].replace('Shepparton', 'SHEPPARTON', inplace=True)\n",
    "df['Page_title'].replace('Falls Creek', 'FALLS_CREEK', inplace=True)\n",
    "df['Page_title'].replace('Mount Buller', 'MOUNT_BULLER', inplace=True)\n",
    "df['Page_title'].replace('Yarrawonga', 'YARRAWONGA', inplace=True)\n",
    "df['Page_title'].replace('Albury', 'ALBURY', inplace=True)\n",
    "df['Page_title'].replace('Corryong', 'CARRYONG', inplace=True)\n",
    "df['Page_title'].replace('Edi Upper', 'EDI_UPPER', inplace=True)\n",
    "df['Page_title'].replace('Hunters Hill', 'HUNTERS_HILL', inplace=True)\n",
    "df['Page_title'].replace('Rutherglen', 'RUTHERGLEN', inplace=True)"
   ]
  },
  {
   "cell_type": "code",
   "execution_count": 7,
   "id": "94445103",
   "metadata": {},
   "outputs": [],
   "source": [
    "# Rename Wstation\n",
    "df2['WStation'].replace('WANGARATTA AERO', 'WANGARATTA', inplace=True)\n",
    "df2['WStation'].replace('BENALLA AIRPORT', 'BENALLA', inplace=True)\n",
    "df2['WStation'].replace('SHEPPARTON AIRPORT', 'SHEPPARTON', inplace=True)\n",
    "df2['WStation'].replace('FALLS CREEK', 'FALLS_CREEK', inplace=True)\n",
    "df2['WStation'].replace('MOUNT BULLER', 'MOUNT_BULLER', inplace=True)\n",
    "df2['WStation'].replace('YARRAWONGA', 'YARRAWONGA', inplace=True)\n",
    "df2['WStation'].replace('ALBURY AIRPORT AWS', 'ALBURY', inplace=True)\n",
    "df2['WStation'].replace('CORRYONG AIRPORT', 'CARRYONG', inplace=True)\n",
    "df2['WStation'].replace('EDI UPPER', 'EDI_UPPER', inplace=True)\n",
    "df2['WStation'].replace('HUNTERS HILL', 'HUNTERS_HILL', inplace=True)\n",
    "df2['WStation'].replace('RUTHERGLEN RESEARCH', 'RUTHERGLEN', inplace=True)"
   ]
  },
  {
   "cell_type": "code",
   "execution_count": 8,
   "id": "a742e0e4",
   "metadata": {},
   "outputs": [
    {
     "data": {
      "text/html": [
       "<div>\n",
       "<style scoped>\n",
       "    .dataframe tbody tr th:only-of-type {\n",
       "        vertical-align: middle;\n",
       "    }\n",
       "\n",
       "    .dataframe tbody tr th {\n",
       "        vertical-align: top;\n",
       "    }\n",
       "\n",
       "    .dataframe thead th {\n",
       "        text-align: right;\n",
       "    }\n",
       "</style>\n",
       "<table border=\"1\" class=\"dataframe\">\n",
       "  <thead>\n",
       "    <tr style=\"text-align: right;\">\n",
       "      <th></th>\n",
       "      <th>Station_Region</th>\n",
       "      <th>Temps_Min</th>\n",
       "      <th>Temps_Max</th>\n",
       "      <th>Rain</th>\n",
       "      <th>AM9_Temp</th>\n",
       "      <th>AM9_RH</th>\n",
       "      <th>AM9_Dir</th>\n",
       "      <th>AM9_Spd</th>\n",
       "      <th>PM3_Temp</th>\n",
       "      <th>PM3_RH</th>\n",
       "      <th>PM3_Dir</th>\n",
       "      <th>PM3_Spd</th>\n",
       "      <th>KEY</th>\n",
       "    </tr>\n",
       "  </thead>\n",
       "  <tbody>\n",
       "    <tr>\n",
       "      <th>0</th>\n",
       "      <td>BENALLA</td>\n",
       "      <td>9.8</td>\n",
       "      <td>26.9</td>\n",
       "      <td>0.0</td>\n",
       "      <td>21.1</td>\n",
       "      <td>37</td>\n",
       "      <td>SE</td>\n",
       "      <td>7.0</td>\n",
       "      <td>25.8</td>\n",
       "      <td>31</td>\n",
       "      <td>E</td>\n",
       "      <td>4.0</td>\n",
       "      <td>20140101</td>\n",
       "    </tr>\n",
       "    <tr>\n",
       "      <th>1</th>\n",
       "      <td>BENALLA</td>\n",
       "      <td>14.9</td>\n",
       "      <td>25.9</td>\n",
       "      <td>3.6</td>\n",
       "      <td>19.0</td>\n",
       "      <td>72</td>\n",
       "      <td>SSW</td>\n",
       "      <td>4.0</td>\n",
       "      <td>24.4</td>\n",
       "      <td>36</td>\n",
       "      <td>WNW</td>\n",
       "      <td>4.0</td>\n",
       "      <td>20140102</td>\n",
       "    </tr>\n",
       "    <tr>\n",
       "      <th>2</th>\n",
       "      <td>BENALLA</td>\n",
       "      <td>15.8</td>\n",
       "      <td>30.2</td>\n",
       "      <td>0.0</td>\n",
       "      <td>22.0</td>\n",
       "      <td>35</td>\n",
       "      <td>SSE</td>\n",
       "      <td>4.0</td>\n",
       "      <td>25.5</td>\n",
       "      <td>35</td>\n",
       "      <td>WNW</td>\n",
       "      <td>9.0</td>\n",
       "      <td>20140103</td>\n",
       "    </tr>\n",
       "    <tr>\n",
       "      <th>3</th>\n",
       "      <td>BENALLA</td>\n",
       "      <td>11.4</td>\n",
       "      <td>25.0</td>\n",
       "      <td>0.0</td>\n",
       "      <td>15.5</td>\n",
       "      <td>51</td>\n",
       "      <td>SSW</td>\n",
       "      <td>6.0</td>\n",
       "      <td>22.9</td>\n",
       "      <td>28</td>\n",
       "      <td>W</td>\n",
       "      <td>13.0</td>\n",
       "      <td>20140104</td>\n",
       "    </tr>\n",
       "    <tr>\n",
       "      <th>4</th>\n",
       "      <td>BENALLA</td>\n",
       "      <td>9.2</td>\n",
       "      <td>25.9</td>\n",
       "      <td>0.0</td>\n",
       "      <td>15.0</td>\n",
       "      <td>43</td>\n",
       "      <td>S</td>\n",
       "      <td>19.0</td>\n",
       "      <td>23.9</td>\n",
       "      <td>25</td>\n",
       "      <td>SSE</td>\n",
       "      <td>11.0</td>\n",
       "      <td>20140107</td>\n",
       "    </tr>\n",
       "  </tbody>\n",
       "</table>\n",
       "</div>"
      ],
      "text/plain": [
       "  Station_Region  Temps_Min  Temps_Max  Rain  AM9_Temp  AM9_RH AM9_Dir  \\\n",
       "0        BENALLA        9.8       26.9   0.0      21.1      37      SE   \n",
       "1        BENALLA       14.9       25.9   3.6      19.0      72     SSW   \n",
       "2        BENALLA       15.8       30.2   0.0      22.0      35     SSE   \n",
       "3        BENALLA       11.4       25.0   0.0      15.5      51     SSW   \n",
       "4        BENALLA        9.2       25.9   0.0      15.0      43       S   \n",
       "\n",
       "   AM9_Spd  PM3_Temp  PM3_RH PM3_Dir  PM3_Spd       KEY  \n",
       "0      7.0      25.8      31       E      4.0  20140101  \n",
       "1      4.0      24.4      36     WNW      4.0  20140102  \n",
       "2      4.0      25.5      35     WNW      9.0  20140103  \n",
       "3      6.0      22.9      28       W     13.0  20140104  \n",
       "4     19.0      23.9      25     SSE     11.0  20140107  "
      ]
     },
     "execution_count": 8,
     "metadata": {},
     "output_type": "execute_result"
    }
   ],
   "source": [
    "df = df.drop(['Page_URL', 'Date','Day'], axis=1)\n",
    "df.rename(columns = {'Page_title':'Station_Region'}, inplace = True)\n",
    "df.head()"
   ]
  },
  {
   "cell_type": "code",
   "execution_count": 9,
   "id": "24bf9c24",
   "metadata": {},
   "outputs": [
    {
     "data": {
      "text/html": [
       "<div>\n",
       "<style scoped>\n",
       "    .dataframe tbody tr th:only-of-type {\n",
       "        vertical-align: middle;\n",
       "    }\n",
       "\n",
       "    .dataframe tbody tr th {\n",
       "        vertical-align: top;\n",
       "    }\n",
       "\n",
       "    .dataframe thead th {\n",
       "        text-align: right;\n",
       "    }\n",
       "</style>\n",
       "<table border=\"1\" class=\"dataframe\">\n",
       "  <thead>\n",
       "    <tr style=\"text-align: right;\">\n",
       "      <th></th>\n",
       "      <th>WStation</th>\n",
       "      <th>STRTDATIT</th>\n",
       "      <th>total_area_ha</th>\n",
       "      <th>count_of_rows</th>\n",
       "    </tr>\n",
       "  </thead>\n",
       "  <tbody>\n",
       "    <tr>\n",
       "      <th>168</th>\n",
       "      <td>MOUNT_BULLER</td>\n",
       "      <td>20191231</td>\n",
       "      <td>83.4484</td>\n",
       "      <td>41</td>\n",
       "    </tr>\n",
       "    <tr>\n",
       "      <th>57</th>\n",
       "      <td>DARTMOUTH RESERVOIR</td>\n",
       "      <td>20191121</td>\n",
       "      <td>6282.5712</td>\n",
       "      <td>31</td>\n",
       "    </tr>\n",
       "    <tr>\n",
       "      <th>118</th>\n",
       "      <td>FALLS_CREEK</td>\n",
       "      <td>20191231</td>\n",
       "      <td>35830.2541</td>\n",
       "      <td>21</td>\n",
       "    </tr>\n",
       "    <tr>\n",
       "      <th>119</th>\n",
       "      <td>FALLS_CREEK</td>\n",
       "      <td>20200101</td>\n",
       "      <td>44315.9390</td>\n",
       "      <td>14</td>\n",
       "    </tr>\n",
       "    <tr>\n",
       "      <th>110</th>\n",
       "      <td>FALLS_CREEK</td>\n",
       "      <td>20190228</td>\n",
       "      <td>13236.3868</td>\n",
       "      <td>14</td>\n",
       "    </tr>\n",
       "  </tbody>\n",
       "</table>\n",
       "</div>"
      ],
      "text/plain": [
       "                WStation  STRTDATIT  total_area_ha  count_of_rows\n",
       "168         MOUNT_BULLER   20191231        83.4484             41\n",
       "57   DARTMOUTH RESERVOIR   20191121      6282.5712             31\n",
       "118          FALLS_CREEK   20191231     35830.2541             21\n",
       "119          FALLS_CREEK   20200101     44315.9390             14\n",
       "110          FALLS_CREEK   20190228     13236.3868             14"
      ]
     },
     "execution_count": 9,
     "metadata": {},
     "output_type": "execute_result"
    }
   ],
   "source": [
    "# Summarizing the DataFrame \n",
    "summary_df = df2.groupby(['WStation', 'STRTDATIT']).agg(\n",
    "    total_area_ha=('AREA_HA', 'sum'),\n",
    "    count_of_rows=('AREA_HA', 'size')\n",
    ").reset_index().sort_values(by='count_of_rows', ascending=False)\n",
    "\n",
    "# Display the summary DataFrame\n",
    "summary_df.head()"
   ]
  },
  {
   "cell_type": "code",
   "execution_count": 10,
   "id": "78d40896",
   "metadata": {},
   "outputs": [
    {
     "data": {
      "text/plain": [
       "array(['BENALLA', 'WANGARATTA', 'YARRAWONGA', 'SHEPPARTON', 'FALLS_CREEK',\n",
       "       'MOUNT_BULLER', 'RUTHERGLEN', 'ALBURY', 'CARRYONG', 'EDI_UPPER',\n",
       "       'HUNTERS_HILL'], dtype=object)"
      ]
     },
     "execution_count": 10,
     "metadata": {},
     "output_type": "execute_result"
    }
   ],
   "source": [
    "df['Station_Region'].unique()"
   ]
  },
  {
   "cell_type": "code",
   "execution_count": 11,
   "id": "ec8344ff",
   "metadata": {},
   "outputs": [
    {
     "data": {
      "text/plain": [
       "array(['MOUNT_BULLER', 'DARTMOUTH RESERVOIR', 'FALLS_CREEK', 'EDI_UPPER',\n",
       "       'CARRYONG', 'ALBURY', 'HUNTERS_HILL', 'STRATHBOGIE', 'SHEPPARTON',\n",
       "       'YARRAWONGA', 'BENALLA', 'RUTHERGLEN', 'WANGARATTA'], dtype=object)"
      ]
     },
     "execution_count": 11,
     "metadata": {},
     "output_type": "execute_result"
    }
   ],
   "source": [
    "summary_df['WStation'].unique()"
   ]
  },
  {
   "cell_type": "code",
   "execution_count": 12,
   "id": "7ac2b53f",
   "metadata": {
    "scrolled": true
   },
   "outputs": [
    {
     "data": {
      "text/html": [
       "<div>\n",
       "<style scoped>\n",
       "    .dataframe tbody tr th:only-of-type {\n",
       "        vertical-align: middle;\n",
       "    }\n",
       "\n",
       "    .dataframe tbody tr th {\n",
       "        vertical-align: top;\n",
       "    }\n",
       "\n",
       "    .dataframe thead th {\n",
       "        text-align: right;\n",
       "    }\n",
       "</style>\n",
       "<table border=\"1\" class=\"dataframe\">\n",
       "  <thead>\n",
       "    <tr style=\"text-align: right;\">\n",
       "      <th></th>\n",
       "      <th>Station_Region</th>\n",
       "      <th>Temps_Min</th>\n",
       "      <th>Temps_Max</th>\n",
       "      <th>Rain</th>\n",
       "      <th>AM9_Temp</th>\n",
       "      <th>AM9_RH</th>\n",
       "      <th>AM9_Dir</th>\n",
       "      <th>AM9_Spd</th>\n",
       "      <th>PM3_Temp</th>\n",
       "      <th>PM3_RH</th>\n",
       "      <th>PM3_Dir</th>\n",
       "      <th>PM3_Spd</th>\n",
       "      <th>KEY</th>\n",
       "      <th>JOINKEY2</th>\n",
       "      <th>WStation</th>\n",
       "      <th>STRTDATIT</th>\n",
       "      <th>total_area_ha</th>\n",
       "      <th>count_of_rows</th>\n",
       "      <th>JOINKEY1</th>\n",
       "    </tr>\n",
       "  </thead>\n",
       "  <tbody>\n",
       "    <tr>\n",
       "      <th>0</th>\n",
       "      <td>BENALLA</td>\n",
       "      <td>9.8</td>\n",
       "      <td>26.9</td>\n",
       "      <td>0.0</td>\n",
       "      <td>21.1</td>\n",
       "      <td>37</td>\n",
       "      <td>SE</td>\n",
       "      <td>7.0</td>\n",
       "      <td>25.8</td>\n",
       "      <td>31</td>\n",
       "      <td>E</td>\n",
       "      <td>4.0</td>\n",
       "      <td>20140101</td>\n",
       "      <td>BENALLA_20140101</td>\n",
       "      <td>NaN</td>\n",
       "      <td>NaN</td>\n",
       "      <td>NaN</td>\n",
       "      <td>NaN</td>\n",
       "      <td>NaN</td>\n",
       "    </tr>\n",
       "    <tr>\n",
       "      <th>1</th>\n",
       "      <td>BENALLA</td>\n",
       "      <td>14.9</td>\n",
       "      <td>25.9</td>\n",
       "      <td>3.6</td>\n",
       "      <td>19.0</td>\n",
       "      <td>72</td>\n",
       "      <td>SSW</td>\n",
       "      <td>4.0</td>\n",
       "      <td>24.4</td>\n",
       "      <td>36</td>\n",
       "      <td>WNW</td>\n",
       "      <td>4.0</td>\n",
       "      <td>20140102</td>\n",
       "      <td>BENALLA_20140102</td>\n",
       "      <td>NaN</td>\n",
       "      <td>NaN</td>\n",
       "      <td>NaN</td>\n",
       "      <td>NaN</td>\n",
       "      <td>NaN</td>\n",
       "    </tr>\n",
       "    <tr>\n",
       "      <th>2</th>\n",
       "      <td>BENALLA</td>\n",
       "      <td>15.8</td>\n",
       "      <td>30.2</td>\n",
       "      <td>0.0</td>\n",
       "      <td>22.0</td>\n",
       "      <td>35</td>\n",
       "      <td>SSE</td>\n",
       "      <td>4.0</td>\n",
       "      <td>25.5</td>\n",
       "      <td>35</td>\n",
       "      <td>WNW</td>\n",
       "      <td>9.0</td>\n",
       "      <td>20140103</td>\n",
       "      <td>BENALLA_20140103</td>\n",
       "      <td>NaN</td>\n",
       "      <td>NaN</td>\n",
       "      <td>NaN</td>\n",
       "      <td>NaN</td>\n",
       "      <td>NaN</td>\n",
       "    </tr>\n",
       "    <tr>\n",
       "      <th>3</th>\n",
       "      <td>BENALLA</td>\n",
       "      <td>11.4</td>\n",
       "      <td>25.0</td>\n",
       "      <td>0.0</td>\n",
       "      <td>15.5</td>\n",
       "      <td>51</td>\n",
       "      <td>SSW</td>\n",
       "      <td>6.0</td>\n",
       "      <td>22.9</td>\n",
       "      <td>28</td>\n",
       "      <td>W</td>\n",
       "      <td>13.0</td>\n",
       "      <td>20140104</td>\n",
       "      <td>BENALLA_20140104</td>\n",
       "      <td>NaN</td>\n",
       "      <td>NaN</td>\n",
       "      <td>NaN</td>\n",
       "      <td>NaN</td>\n",
       "      <td>NaN</td>\n",
       "    </tr>\n",
       "    <tr>\n",
       "      <th>4</th>\n",
       "      <td>BENALLA</td>\n",
       "      <td>9.2</td>\n",
       "      <td>25.9</td>\n",
       "      <td>0.0</td>\n",
       "      <td>15.0</td>\n",
       "      <td>43</td>\n",
       "      <td>S</td>\n",
       "      <td>19.0</td>\n",
       "      <td>23.9</td>\n",
       "      <td>25</td>\n",
       "      <td>SSE</td>\n",
       "      <td>11.0</td>\n",
       "      <td>20140107</td>\n",
       "      <td>BENALLA_20140107</td>\n",
       "      <td>NaN</td>\n",
       "      <td>NaN</td>\n",
       "      <td>NaN</td>\n",
       "      <td>NaN</td>\n",
       "      <td>NaN</td>\n",
       "    </tr>\n",
       "  </tbody>\n",
       "</table>\n",
       "</div>"
      ],
      "text/plain": [
       "  Station_Region  Temps_Min  Temps_Max  Rain  AM9_Temp  AM9_RH AM9_Dir  \\\n",
       "0        BENALLA        9.8       26.9   0.0      21.1      37      SE   \n",
       "1        BENALLA       14.9       25.9   3.6      19.0      72     SSW   \n",
       "2        BENALLA       15.8       30.2   0.0      22.0      35     SSE   \n",
       "3        BENALLA       11.4       25.0   0.0      15.5      51     SSW   \n",
       "4        BENALLA        9.2       25.9   0.0      15.0      43       S   \n",
       "\n",
       "   AM9_Spd  PM3_Temp  PM3_RH PM3_Dir  PM3_Spd       KEY          JOINKEY2  \\\n",
       "0      7.0      25.8      31       E      4.0  20140101  BENALLA_20140101   \n",
       "1      4.0      24.4      36     WNW      4.0  20140102  BENALLA_20140102   \n",
       "2      4.0      25.5      35     WNW      9.0  20140103  BENALLA_20140103   \n",
       "3      6.0      22.9      28       W     13.0  20140104  BENALLA_20140104   \n",
       "4     19.0      23.9      25     SSE     11.0  20140107  BENALLA_20140107   \n",
       "\n",
       "  WStation  STRTDATIT  total_area_ha  count_of_rows JOINKEY1  \n",
       "0      NaN        NaN            NaN            NaN      NaN  \n",
       "1      NaN        NaN            NaN            NaN      NaN  \n",
       "2      NaN        NaN            NaN            NaN      NaN  \n",
       "3      NaN        NaN            NaN            NaN      NaN  \n",
       "4      NaN        NaN            NaN            NaN      NaN  "
      ]
     },
     "execution_count": 12,
     "metadata": {},
     "output_type": "execute_result"
    }
   ],
   "source": [
    "# Convert the `KEY` column in df to string\n",
    "df['KEY'] = df['KEY'].astype(str)\n",
    "\n",
    "# Create a new column by concatenating WStation and STRTDATIT\n",
    "summary_df['JOINKEY1'] = summary_df['WStation'] + '_' + summary_df['STRTDATIT'].astype(str)\n",
    "df['JOINKEY2'] = df['Station_Region'] + '_' + df['KEY']\n",
    "\n",
    "# Left join df (weather data) with df2 (fire data) on KEY and STRTDATIT\n",
    "data = df.merge(summary_df, how='left', left_on='JOINKEY2', right_on='JOINKEY1')\n",
    "data.head()"
   ]
  },
  {
   "cell_type": "code",
   "execution_count": 13,
   "id": "8a52e0cb",
   "metadata": {},
   "outputs": [
    {
     "data": {
      "text/html": [
       "<div>\n",
       "<style scoped>\n",
       "    .dataframe tbody tr th:only-of-type {\n",
       "        vertical-align: middle;\n",
       "    }\n",
       "\n",
       "    .dataframe tbody tr th {\n",
       "        vertical-align: top;\n",
       "    }\n",
       "\n",
       "    .dataframe thead th {\n",
       "        text-align: right;\n",
       "    }\n",
       "</style>\n",
       "<table border=\"1\" class=\"dataframe\">\n",
       "  <thead>\n",
       "    <tr style=\"text-align: right;\">\n",
       "      <th></th>\n",
       "      <th>Station_Region</th>\n",
       "      <th>Temps_Min</th>\n",
       "      <th>Temps_Max</th>\n",
       "      <th>Rain</th>\n",
       "      <th>AM9_Temp</th>\n",
       "      <th>AM9_RH</th>\n",
       "      <th>AM9_Dir</th>\n",
       "      <th>AM9_Spd</th>\n",
       "      <th>PM3_Temp</th>\n",
       "      <th>PM3_RH</th>\n",
       "      <th>PM3_Dir</th>\n",
       "      <th>PM3_Spd</th>\n",
       "      <th>KEY</th>\n",
       "      <th>JOINKEY2</th>\n",
       "      <th>WStation</th>\n",
       "      <th>STRTDATIT</th>\n",
       "      <th>total_area_ha</th>\n",
       "      <th>count_of_rows</th>\n",
       "      <th>JOINKEY1</th>\n",
       "      <th>Bushfire_Event_Target</th>\n",
       "    </tr>\n",
       "  </thead>\n",
       "  <tbody>\n",
       "    <tr>\n",
       "      <th>0</th>\n",
       "      <td>BENALLA</td>\n",
       "      <td>9.8</td>\n",
       "      <td>26.9</td>\n",
       "      <td>0.0</td>\n",
       "      <td>21.1</td>\n",
       "      <td>37</td>\n",
       "      <td>SE</td>\n",
       "      <td>7.0</td>\n",
       "      <td>25.8</td>\n",
       "      <td>31</td>\n",
       "      <td>E</td>\n",
       "      <td>4.0</td>\n",
       "      <td>20140101</td>\n",
       "      <td>BENALLA_20140101</td>\n",
       "      <td>NaN</td>\n",
       "      <td>NaN</td>\n",
       "      <td>NaN</td>\n",
       "      <td>NaN</td>\n",
       "      <td>NaN</td>\n",
       "      <td>0</td>\n",
       "    </tr>\n",
       "    <tr>\n",
       "      <th>1</th>\n",
       "      <td>BENALLA</td>\n",
       "      <td>14.9</td>\n",
       "      <td>25.9</td>\n",
       "      <td>3.6</td>\n",
       "      <td>19.0</td>\n",
       "      <td>72</td>\n",
       "      <td>SSW</td>\n",
       "      <td>4.0</td>\n",
       "      <td>24.4</td>\n",
       "      <td>36</td>\n",
       "      <td>WNW</td>\n",
       "      <td>4.0</td>\n",
       "      <td>20140102</td>\n",
       "      <td>BENALLA_20140102</td>\n",
       "      <td>NaN</td>\n",
       "      <td>NaN</td>\n",
       "      <td>NaN</td>\n",
       "      <td>NaN</td>\n",
       "      <td>NaN</td>\n",
       "      <td>0</td>\n",
       "    </tr>\n",
       "    <tr>\n",
       "      <th>2</th>\n",
       "      <td>BENALLA</td>\n",
       "      <td>15.8</td>\n",
       "      <td>30.2</td>\n",
       "      <td>0.0</td>\n",
       "      <td>22.0</td>\n",
       "      <td>35</td>\n",
       "      <td>SSE</td>\n",
       "      <td>4.0</td>\n",
       "      <td>25.5</td>\n",
       "      <td>35</td>\n",
       "      <td>WNW</td>\n",
       "      <td>9.0</td>\n",
       "      <td>20140103</td>\n",
       "      <td>BENALLA_20140103</td>\n",
       "      <td>NaN</td>\n",
       "      <td>NaN</td>\n",
       "      <td>NaN</td>\n",
       "      <td>NaN</td>\n",
       "      <td>NaN</td>\n",
       "      <td>0</td>\n",
       "    </tr>\n",
       "    <tr>\n",
       "      <th>3</th>\n",
       "      <td>BENALLA</td>\n",
       "      <td>11.4</td>\n",
       "      <td>25.0</td>\n",
       "      <td>0.0</td>\n",
       "      <td>15.5</td>\n",
       "      <td>51</td>\n",
       "      <td>SSW</td>\n",
       "      <td>6.0</td>\n",
       "      <td>22.9</td>\n",
       "      <td>28</td>\n",
       "      <td>W</td>\n",
       "      <td>13.0</td>\n",
       "      <td>20140104</td>\n",
       "      <td>BENALLA_20140104</td>\n",
       "      <td>NaN</td>\n",
       "      <td>NaN</td>\n",
       "      <td>NaN</td>\n",
       "      <td>NaN</td>\n",
       "      <td>NaN</td>\n",
       "      <td>0</td>\n",
       "    </tr>\n",
       "    <tr>\n",
       "      <th>4</th>\n",
       "      <td>BENALLA</td>\n",
       "      <td>9.2</td>\n",
       "      <td>25.9</td>\n",
       "      <td>0.0</td>\n",
       "      <td>15.0</td>\n",
       "      <td>43</td>\n",
       "      <td>S</td>\n",
       "      <td>19.0</td>\n",
       "      <td>23.9</td>\n",
       "      <td>25</td>\n",
       "      <td>SSE</td>\n",
       "      <td>11.0</td>\n",
       "      <td>20140107</td>\n",
       "      <td>BENALLA_20140107</td>\n",
       "      <td>NaN</td>\n",
       "      <td>NaN</td>\n",
       "      <td>NaN</td>\n",
       "      <td>NaN</td>\n",
       "      <td>NaN</td>\n",
       "      <td>0</td>\n",
       "    </tr>\n",
       "  </tbody>\n",
       "</table>\n",
       "</div>"
      ],
      "text/plain": [
       "  Station_Region  Temps_Min  Temps_Max  Rain  AM9_Temp  AM9_RH AM9_Dir  \\\n",
       "0        BENALLA        9.8       26.9   0.0      21.1      37      SE   \n",
       "1        BENALLA       14.9       25.9   3.6      19.0      72     SSW   \n",
       "2        BENALLA       15.8       30.2   0.0      22.0      35     SSE   \n",
       "3        BENALLA       11.4       25.0   0.0      15.5      51     SSW   \n",
       "4        BENALLA        9.2       25.9   0.0      15.0      43       S   \n",
       "\n",
       "   AM9_Spd  PM3_Temp  PM3_RH PM3_Dir  PM3_Spd       KEY          JOINKEY2  \\\n",
       "0      7.0      25.8      31       E      4.0  20140101  BENALLA_20140101   \n",
       "1      4.0      24.4      36     WNW      4.0  20140102  BENALLA_20140102   \n",
       "2      4.0      25.5      35     WNW      9.0  20140103  BENALLA_20140103   \n",
       "3      6.0      22.9      28       W     13.0  20140104  BENALLA_20140104   \n",
       "4     19.0      23.9      25     SSE     11.0  20140107  BENALLA_20140107   \n",
       "\n",
       "  WStation  STRTDATIT  total_area_ha  count_of_rows JOINKEY1  \\\n",
       "0      NaN        NaN            NaN            NaN      NaN   \n",
       "1      NaN        NaN            NaN            NaN      NaN   \n",
       "2      NaN        NaN            NaN            NaN      NaN   \n",
       "3      NaN        NaN            NaN            NaN      NaN   \n",
       "4      NaN        NaN            NaN            NaN      NaN   \n",
       "\n",
       "   Bushfire_Event_Target  \n",
       "0                      0  \n",
       "1                      0  \n",
       "2                      0  \n",
       "3                      0  \n",
       "4                      0  "
      ]
     },
     "execution_count": 13,
     "metadata": {},
     "output_type": "execute_result"
    }
   ],
   "source": [
    "# Create a new column based on the value of count_of_rows\n",
    "data['Bushfire_Event_Target'] = data['count_of_rows'].apply(lambda x: 0 if pd.isna(x) or x == 0 else 1)\n",
    "data.head()"
   ]
  },
  {
   "cell_type": "code",
   "execution_count": 14,
   "id": "6d14c318",
   "metadata": {},
   "outputs": [],
   "source": [
    "# Remove unwanted columns from the DataFrame\n",
    "data = data.drop(columns=['WStation'])\n",
    "data = data.drop(columns=['STRTDATIT'])\n",
    "data = data.drop(columns=['count_of_rows'])\n",
    "data = data.drop(columns=['AM9_Dir'])\n",
    "data = data.drop(columns=['PM3_Dir'])\n",
    "data = data.drop(columns=['KEY'])\n",
    "data = data.drop(columns=['JOINKEY1'])\n",
    "data = data.drop(columns=['JOINKEY2'])\n",
    "\n",
    "# Replace NaN values in the 'Total_Area' column with 0\n",
    "data['total_area_ha'] = data['total_area_ha'].fillna(0)\n",
    "data.rename(columns = {'total_area_ha':'Total_Area'}, inplace = True)\n",
    "# Normalize the Total_Area column\n",
    "data['Total_Area'] = (data['Total_Area'] - data['Total_Area'].min()) / (data['Total_Area'].max() - data['Total_Area'].min())"
   ]
  },
  {
   "cell_type": "code",
   "execution_count": 15,
   "id": "32dd6673",
   "metadata": {},
   "outputs": [
    {
     "data": {
      "text/html": [
       "<div>\n",
       "<style scoped>\n",
       "    .dataframe tbody tr th:only-of-type {\n",
       "        vertical-align: middle;\n",
       "    }\n",
       "\n",
       "    .dataframe tbody tr th {\n",
       "        vertical-align: top;\n",
       "    }\n",
       "\n",
       "    .dataframe thead th {\n",
       "        text-align: right;\n",
       "    }\n",
       "</style>\n",
       "<table border=\"1\" class=\"dataframe\">\n",
       "  <thead>\n",
       "    <tr style=\"text-align: right;\">\n",
       "      <th></th>\n",
       "      <th>Station_Region</th>\n",
       "      <th>Temps_Min</th>\n",
       "      <th>Temps_Max</th>\n",
       "      <th>Rain</th>\n",
       "      <th>AM9_Temp</th>\n",
       "      <th>AM9_RH</th>\n",
       "      <th>AM9_Spd</th>\n",
       "      <th>PM3_Temp</th>\n",
       "      <th>PM3_RH</th>\n",
       "      <th>PM3_Spd</th>\n",
       "      <th>Total_Area</th>\n",
       "      <th>Bushfire_Event_Target</th>\n",
       "    </tr>\n",
       "  </thead>\n",
       "  <tbody>\n",
       "    <tr>\n",
       "      <th>0</th>\n",
       "      <td>BENALLA</td>\n",
       "      <td>9.8</td>\n",
       "      <td>26.9</td>\n",
       "      <td>0.0</td>\n",
       "      <td>21.1</td>\n",
       "      <td>37</td>\n",
       "      <td>7.0</td>\n",
       "      <td>25.8</td>\n",
       "      <td>31</td>\n",
       "      <td>4.0</td>\n",
       "      <td>0.0</td>\n",
       "      <td>0</td>\n",
       "    </tr>\n",
       "    <tr>\n",
       "      <th>1</th>\n",
       "      <td>BENALLA</td>\n",
       "      <td>14.9</td>\n",
       "      <td>25.9</td>\n",
       "      <td>3.6</td>\n",
       "      <td>19.0</td>\n",
       "      <td>72</td>\n",
       "      <td>4.0</td>\n",
       "      <td>24.4</td>\n",
       "      <td>36</td>\n",
       "      <td>4.0</td>\n",
       "      <td>0.0</td>\n",
       "      <td>0</td>\n",
       "    </tr>\n",
       "    <tr>\n",
       "      <th>2</th>\n",
       "      <td>BENALLA</td>\n",
       "      <td>15.8</td>\n",
       "      <td>30.2</td>\n",
       "      <td>0.0</td>\n",
       "      <td>22.0</td>\n",
       "      <td>35</td>\n",
       "      <td>4.0</td>\n",
       "      <td>25.5</td>\n",
       "      <td>35</td>\n",
       "      <td>9.0</td>\n",
       "      <td>0.0</td>\n",
       "      <td>0</td>\n",
       "    </tr>\n",
       "    <tr>\n",
       "      <th>3</th>\n",
       "      <td>BENALLA</td>\n",
       "      <td>11.4</td>\n",
       "      <td>25.0</td>\n",
       "      <td>0.0</td>\n",
       "      <td>15.5</td>\n",
       "      <td>51</td>\n",
       "      <td>6.0</td>\n",
       "      <td>22.9</td>\n",
       "      <td>28</td>\n",
       "      <td>13.0</td>\n",
       "      <td>0.0</td>\n",
       "      <td>0</td>\n",
       "    </tr>\n",
       "    <tr>\n",
       "      <th>4</th>\n",
       "      <td>BENALLA</td>\n",
       "      <td>9.2</td>\n",
       "      <td>25.9</td>\n",
       "      <td>0.0</td>\n",
       "      <td>15.0</td>\n",
       "      <td>43</td>\n",
       "      <td>19.0</td>\n",
       "      <td>23.9</td>\n",
       "      <td>25</td>\n",
       "      <td>11.0</td>\n",
       "      <td>0.0</td>\n",
       "      <td>0</td>\n",
       "    </tr>\n",
       "  </tbody>\n",
       "</table>\n",
       "</div>"
      ],
      "text/plain": [
       "  Station_Region  Temps_Min  Temps_Max  Rain  AM9_Temp  AM9_RH  AM9_Spd  \\\n",
       "0        BENALLA        9.8       26.9   0.0      21.1      37      7.0   \n",
       "1        BENALLA       14.9       25.9   3.6      19.0      72      4.0   \n",
       "2        BENALLA       15.8       30.2   0.0      22.0      35      4.0   \n",
       "3        BENALLA       11.4       25.0   0.0      15.5      51      6.0   \n",
       "4        BENALLA        9.2       25.9   0.0      15.0      43     19.0   \n",
       "\n",
       "   PM3_Temp  PM3_RH  PM3_Spd  Total_Area  Bushfire_Event_Target  \n",
       "0      25.8      31      4.0         0.0                      0  \n",
       "1      24.4      36      4.0         0.0                      0  \n",
       "2      25.5      35      9.0         0.0                      0  \n",
       "3      22.9      28     13.0         0.0                      0  \n",
       "4      23.9      25     11.0         0.0                      0  "
      ]
     },
     "execution_count": 15,
     "metadata": {},
     "output_type": "execute_result"
    }
   ],
   "source": [
    "data.head()"
   ]
  },
  {
   "cell_type": "code",
   "execution_count": 16,
   "id": "884099d2",
   "metadata": {},
   "outputs": [
    {
     "data": {
      "text/html": [
       "<div>\n",
       "<style scoped>\n",
       "    .dataframe tbody tr th:only-of-type {\n",
       "        vertical-align: middle;\n",
       "    }\n",
       "\n",
       "    .dataframe tbody tr th {\n",
       "        vertical-align: top;\n",
       "    }\n",
       "\n",
       "    .dataframe thead th {\n",
       "        text-align: right;\n",
       "    }\n",
       "</style>\n",
       "<table border=\"1\" class=\"dataframe\">\n",
       "  <thead>\n",
       "    <tr style=\"text-align: right;\">\n",
       "      <th></th>\n",
       "      <th>Station_Region</th>\n",
       "      <th>Temps_Min</th>\n",
       "      <th>Temps_Max</th>\n",
       "      <th>Rain</th>\n",
       "      <th>AM9_Temp</th>\n",
       "      <th>AM9_RH</th>\n",
       "      <th>AM9_Spd</th>\n",
       "      <th>PM3_Temp</th>\n",
       "      <th>PM3_RH</th>\n",
       "      <th>PM3_Spd</th>\n",
       "      <th>Total_Area</th>\n",
       "      <th>Bushfire_Event_Target</th>\n",
       "    </tr>\n",
       "  </thead>\n",
       "  <tbody>\n",
       "    <tr>\n",
       "      <th>0</th>\n",
       "      <td>1</td>\n",
       "      <td>9.8</td>\n",
       "      <td>26.9</td>\n",
       "      <td>0.0</td>\n",
       "      <td>21.1</td>\n",
       "      <td>37</td>\n",
       "      <td>7.0</td>\n",
       "      <td>25.8</td>\n",
       "      <td>31</td>\n",
       "      <td>4.0</td>\n",
       "      <td>0.0</td>\n",
       "      <td>0</td>\n",
       "    </tr>\n",
       "    <tr>\n",
       "      <th>1</th>\n",
       "      <td>1</td>\n",
       "      <td>14.9</td>\n",
       "      <td>25.9</td>\n",
       "      <td>3.6</td>\n",
       "      <td>19.0</td>\n",
       "      <td>72</td>\n",
       "      <td>4.0</td>\n",
       "      <td>24.4</td>\n",
       "      <td>36</td>\n",
       "      <td>4.0</td>\n",
       "      <td>0.0</td>\n",
       "      <td>0</td>\n",
       "    </tr>\n",
       "    <tr>\n",
       "      <th>2</th>\n",
       "      <td>1</td>\n",
       "      <td>15.8</td>\n",
       "      <td>30.2</td>\n",
       "      <td>0.0</td>\n",
       "      <td>22.0</td>\n",
       "      <td>35</td>\n",
       "      <td>4.0</td>\n",
       "      <td>25.5</td>\n",
       "      <td>35</td>\n",
       "      <td>9.0</td>\n",
       "      <td>0.0</td>\n",
       "      <td>0</td>\n",
       "    </tr>\n",
       "    <tr>\n",
       "      <th>3</th>\n",
       "      <td>1</td>\n",
       "      <td>11.4</td>\n",
       "      <td>25.0</td>\n",
       "      <td>0.0</td>\n",
       "      <td>15.5</td>\n",
       "      <td>51</td>\n",
       "      <td>6.0</td>\n",
       "      <td>22.9</td>\n",
       "      <td>28</td>\n",
       "      <td>13.0</td>\n",
       "      <td>0.0</td>\n",
       "      <td>0</td>\n",
       "    </tr>\n",
       "    <tr>\n",
       "      <th>4</th>\n",
       "      <td>1</td>\n",
       "      <td>9.2</td>\n",
       "      <td>25.9</td>\n",
       "      <td>0.0</td>\n",
       "      <td>15.0</td>\n",
       "      <td>43</td>\n",
       "      <td>19.0</td>\n",
       "      <td>23.9</td>\n",
       "      <td>25</td>\n",
       "      <td>11.0</td>\n",
       "      <td>0.0</td>\n",
       "      <td>0</td>\n",
       "    </tr>\n",
       "  </tbody>\n",
       "</table>\n",
       "</div>"
      ],
      "text/plain": [
       "   Station_Region  Temps_Min  Temps_Max  Rain  AM9_Temp  AM9_RH  AM9_Spd  \\\n",
       "0               1        9.8       26.9   0.0      21.1      37      7.0   \n",
       "1               1       14.9       25.9   3.6      19.0      72      4.0   \n",
       "2               1       15.8       30.2   0.0      22.0      35      4.0   \n",
       "3               1       11.4       25.0   0.0      15.5      51      6.0   \n",
       "4               1        9.2       25.9   0.0      15.0      43     19.0   \n",
       "\n",
       "   PM3_Temp  PM3_RH  PM3_Spd  Total_Area  Bushfire_Event_Target  \n",
       "0      25.8      31      4.0         0.0                      0  \n",
       "1      24.4      36      4.0         0.0                      0  \n",
       "2      25.5      35      9.0         0.0                      0  \n",
       "3      22.9      28     13.0         0.0                      0  \n",
       "4      23.9      25     11.0         0.0                      0  "
      ]
     },
     "execution_count": 16,
     "metadata": {},
     "output_type": "execute_result"
    }
   ],
   "source": [
    "# Initialize the encoder\n",
    "label_encoder = LabelEncoder()\n",
    "\n",
    "# Fit and transform the data\n",
    "data[\"Station_Region\"] = label_encoder.fit_transform(data[\"Station_Region\"])\n",
    "\n",
    "data.head()"
   ]
  },
  {
   "cell_type": "code",
   "execution_count": 17,
   "id": "56d65131",
   "metadata": {},
   "outputs": [
    {
     "name": "stdout",
     "output_type": "stream",
     "text": [
      "Mapping {'ALBURY': 0, 'BENALLA': 1, 'CARRYONG': 2, 'EDI_UPPER': 3, 'FALLS_CREEK': 4, 'HUNTERS_HILL': 5, 'MOUNT_BULLER': 6, 'RUTHERGLEN': 7, 'SHEPPARTON': 8, 'WANGARATTA': 9, 'YARRAWONGA': 10}\n"
     ]
    }
   ],
   "source": [
    "# Print the mapping of original values to encoded values\n",
    "mapping = dict(zip(label_encoder.classes_, label_encoder.transform(label_encoder.classes_)))\n",
    "print(\"Mapping\", mapping)"
   ]
  },
  {
   "cell_type": "code",
   "execution_count": 18,
   "id": "eb1b6675",
   "metadata": {},
   "outputs": [
    {
     "data": {
      "text/plain": [
       "array([[<Axes: title={'center': 'Station_Region'}>,\n",
       "        <Axes: title={'center': 'Temps_Min'}>,\n",
       "        <Axes: title={'center': 'Temps_Max'}>],\n",
       "       [<Axes: title={'center': 'Rain'}>,\n",
       "        <Axes: title={'center': 'AM9_Temp'}>,\n",
       "        <Axes: title={'center': 'AM9_RH'}>],\n",
       "       [<Axes: title={'center': 'AM9_Spd'}>,\n",
       "        <Axes: title={'center': 'PM3_Temp'}>,\n",
       "        <Axes: title={'center': 'PM3_RH'}>],\n",
       "       [<Axes: title={'center': 'PM3_Spd'}>,\n",
       "        <Axes: title={'center': 'Total_Area'}>,\n",
       "        <Axes: title={'center': 'Bushfire_Event_Target'}>]], dtype=object)"
      ]
     },
     "execution_count": 18,
     "metadata": {},
     "output_type": "execute_result"
    },
    {
     "data": {
      "image/png": "[encoded data removed]",
      "text/plain": [
       "<Figure size 640x480 with 12 Axes>"
      ]
     },
     "metadata": {},
     "output_type": "display_data"
    }
   ],
   "source": [
    "# Assigning the data to the DataFrame\n",
    "df = pd.DataFrame(data)\n",
    "df.hist()"
   ]
  },
  {
   "cell_type": "code",
   "execution_count": null,
   "id": "7416fb50",
   "metadata": {},
   "outputs": [],
   "source": [
    "df.head()"
   ]
  },
  {
   "cell_type": "code",
   "execution_count": 19,
   "id": "0e4d952a",
   "metadata": {},
   "outputs": [
    {
     "name": "stdout",
     "output_type": "stream",
     "text": [
      "<class 'pandas.core.frame.DataFrame'>\n",
      "RangeIndex: 20021 entries, 0 to 20020\n",
      "Data columns (total 12 columns):\n",
      " #   Column                 Non-Null Count  Dtype  \n",
      "---  ------                 --------------  -----  \n",
      " 0   Station_Region         20021 non-null  int32  \n",
      " 1   Temps_Min              20021 non-null  float64\n",
      " 2   Temps_Max              20021 non-null  float64\n",
      " 3   Rain                   20021 non-null  float64\n",
      " 4   AM9_Temp               20021 non-null  float64\n",
      " 5   AM9_RH                 20021 non-null  int64  \n",
      " 6   AM9_Spd                20021 non-null  float64\n",
      " 7   PM3_Temp               20021 non-null  float64\n",
      " 8   PM3_RH                 20021 non-null  int64  \n",
      " 9   PM3_Spd                20021 non-null  float64\n",
      " 10  Total_Area             20021 non-null  float64\n",
      " 11  Bushfire_Event_Target  20021 non-null  int64  \n",
      "dtypes: float64(8), int32(1), int64(3)\n",
      "memory usage: 1.8 MB\n"
     ]
    }
   ],
   "source": [
    "df.info()"
   ]
  },
  {
   "cell_type": "markdown",
   "id": "b50bab01",
   "metadata": {},
   "source": [
    "# Resolving Class Imbalance Issues"
   ]
  },
  {
   "cell_type": "code",
   "execution_count": 20,
   "id": "be8699d5",
   "metadata": {},
   "outputs": [],
   "source": [
    "# Separate the majority and minority classes\n",
    "X_0 = df[df['Bushfire_Event_Target'] == 0]  # Majority class\n",
    "X_1 = df[df['Bushfire_Event_Target'] == 1]  # Minority class\n",
    "\n",
    "# Randomly sample from the majority class\n",
    "n_samples = 200  # Number of samples to keep from the majority class\n",
    "X_0_sampled = X_0.sample(n=n_samples, random_state=42)\n",
    "\n",
    "# Combine the undersampled majority class with the minority class\n",
    "df = pd.concat([X_0_sampled, X_1])"
   ]
  },
  {
   "cell_type": "code",
   "execution_count": 21,
   "id": "194bad46",
   "metadata": {},
   "outputs": [
    {
     "data": {
      "text/plain": [
       "Station_Region           200\n",
       "Temps_Min                200\n",
       "Temps_Max                200\n",
       "Rain                     200\n",
       "AM9_Temp                 200\n",
       "AM9_RH                   200\n",
       "AM9_Spd                  200\n",
       "PM3_Temp                 200\n",
       "PM3_RH                   200\n",
       "PM3_Spd                  200\n",
       "Total_Area               200\n",
       "Bushfire_Event_Target    200\n",
       "dtype: int64"
      ]
     },
     "execution_count": 21,
     "metadata": {},
     "output_type": "execute_result"
    }
   ],
   "source": [
    "a = df[df['Bushfire_Event_Target'] == 0]\n",
    "a.count()"
   ]
  },
  {
   "cell_type": "code",
   "execution_count": 22,
   "id": "f3c87721",
   "metadata": {},
   "outputs": [
    {
     "data": {
      "text/plain": [
       "Station_Region           140\n",
       "Temps_Min                140\n",
       "Temps_Max                140\n",
       "Rain                     140\n",
       "AM9_Temp                 140\n",
       "AM9_RH                   140\n",
       "AM9_Spd                  140\n",
       "PM3_Temp                 140\n",
       "PM3_RH                   140\n",
       "PM3_Spd                  140\n",
       "Total_Area               140\n",
       "Bushfire_Event_Target    140\n",
       "dtype: int64"
      ]
     },
     "execution_count": 22,
     "metadata": {},
     "output_type": "execute_result"
    }
   ],
   "source": [
    "a = df[df['Bushfire_Event_Target'] == 1]\n",
    "a.count()"
   ]
  },
  {
   "cell_type": "markdown",
   "id": "19d1e751",
   "metadata": {},
   "source": [
    "# Check for correlation among the variables"
   ]
  },
  {
   "cell_type": "code",
   "execution_count": 23,
   "id": "0c187f4d",
   "metadata": {},
   "outputs": [
    {
     "name": "stdout",
     "output_type": "stream",
     "text": [
      "                       Station_Region  Temps_Min  Temps_Max      Rain  \\\n",
      "Station_Region               1.000000   0.056108   0.102297 -0.044611   \n",
      "Temps_Min                    0.056108   1.000000   0.817511 -0.049770   \n",
      "Temps_Max                    0.102297   0.817511   1.000000 -0.185224   \n",
      "Rain                        -0.044611  -0.049770  -0.185224  1.000000   \n",
      "AM9_Temp                     0.103578   0.900393   0.951034 -0.136218   \n",
      "AM9_RH                      -0.033659  -0.540743  -0.639255  0.220045   \n",
      "AM9_Spd                     -0.221265  -0.060050  -0.053351  0.076960   \n",
      "PM3_Temp                     0.022910   0.729600   0.907651 -0.160921   \n",
      "PM3_RH                      -0.052221  -0.520047  -0.808371  0.215631   \n",
      "PM3_Spd                     -0.232512  -0.063154  -0.022239  0.051807   \n",
      "Total_Area                  -0.045184   0.024080  -0.001396 -0.020690   \n",
      "Bushfire_Event_Target       -0.040034   0.374604   0.330619 -0.084738   \n",
      "\n",
      "                       AM9_Temp    AM9_RH   AM9_Spd  PM3_Temp    PM3_RH  \\\n",
      "Station_Region         0.103578 -0.033659 -0.221265  0.022910 -0.052221   \n",
      "Temps_Min              0.900393 -0.540743 -0.060050  0.729600 -0.520047   \n",
      "Temps_Max              0.951034 -0.639255 -0.053351  0.907651 -0.808371   \n",
      "Rain                  -0.136218  0.220045  0.076960 -0.160921  0.215631   \n",
      "AM9_Temp               1.000000 -0.693031 -0.060826  0.855122 -0.704679   \n",
      "AM9_RH                -0.693031  1.000000  0.096861 -0.539372  0.656707   \n",
      "AM9_Spd               -0.060826  0.096861  1.000000  0.317872 -0.206275   \n",
      "PM3_Temp               0.855122 -0.539372  0.317872  1.000000 -0.852059   \n",
      "PM3_RH                -0.704679  0.656707 -0.206275 -0.852059  1.000000   \n",
      "PM3_Spd               -0.048645  0.101668  0.908667  0.316223 -0.208112   \n",
      "Total_Area             0.029026 -0.165727 -0.005684 -0.011271 -0.027407   \n",
      "Bushfire_Event_Target  0.359640 -0.404650  0.006320  0.286659 -0.329608   \n",
      "\n",
      "                        PM3_Spd  Total_Area  Bushfire_Event_Target  \n",
      "Station_Region        -0.232512   -0.045184              -0.040034  \n",
      "Temps_Min             -0.063154    0.024080               0.374604  \n",
      "Temps_Max             -0.022239   -0.001396               0.330619  \n",
      "Rain                   0.051807   -0.020690              -0.084738  \n",
      "AM9_Temp              -0.048645    0.029026               0.359640  \n",
      "AM9_RH                 0.101668   -0.165727              -0.404650  \n",
      "AM9_Spd                0.908667   -0.005684               0.006320  \n",
      "PM3_Temp               0.316223   -0.011271               0.286659  \n",
      "PM3_RH                -0.208112   -0.027407              -0.329608  \n",
      "PM3_Spd                1.000000   -0.007472              -0.010300  \n",
      "Total_Area            -0.007472    1.000000               0.117251  \n",
      "Bushfire_Event_Target -0.010300    0.117251               1.000000  \n"
     ]
    },
    {
     "data": {
      "image/png": "[encoded data removed]",
      "text/plain": [
       "<Figure size 800x600 with 2 Axes>"
      ]
     },
     "metadata": {},
     "output_type": "display_data"
    }
   ],
   "source": [
    "# Calculate the correlation matrix\n",
    "corr_matrix = df.corr()\n",
    "\n",
    "# Print the correlation matrix\n",
    "print(corr_matrix)\n",
    "\n",
    "# Visualize the correlation matrix using a heatmap\n",
    "plt.figure(figsize=(8, 6))\n",
    "sns.heatmap(corr_matrix, annot=True, cmap='coolwarm', linewidths=0.5)\n",
    "plt.title('Correlation Matrix')\n",
    "plt.show()"
   ]
  },
  {
   "cell_type": "code",
   "execution_count": null,
   "id": "50196281",
   "metadata": {},
   "outputs": [],
   "source": [
    "# Write DataFrame to CSV\n",
    "csv_file_path = 'BB_R_Model_Data.csv'  # Specify the path to the output CSV file\n",
    "df.to_csv(csv_file_path, index=False)  # Set index=False to avoid writing row indices to the file"
   ]
  },
  {
   "cell_type": "code",
   "execution_count": 26,
   "id": "3c260932",
   "metadata": {},
   "outputs": [
    {
     "name": "stdout",
     "output_type": "stream",
     "text": [
      "Train set class distribution:\n",
      " Bushfire_Event_Target\n",
      "0                        160\n",
      "1                        112\n",
      "Name: count, dtype: int64\n",
      "Test set class distribution:\n",
      " Bushfire_Event_Target\n",
      "0                        40\n",
      "1                        28\n",
      "Name: count, dtype: int64\n"
     ]
    }
   ],
   "source": [
    "features = ['Station_Region','Temps_Min','Temps_Max','Rain','AM9_Temp','AM9_RH','AM9_Spd','PM3_Temp','PM3_RH','PM3_Spd']\n",
    "#features = ['Station_Region','Temps_Min','Temps_Max','Rain','AM9_RH','AM9_Spd']\n",
    "X = df.loc[:, features]\n",
    "y = df.loc[:, ['Bushfire_Event_Target']]\n",
    "\n",
    "# Perform stratified split to preserve the class distribution\n",
    "X_train, X_test, y_train, y_test = train_test_split(X, y, test_size=0.20, random_state=0, stratify=y)\n",
    "\n",
    "# Check the distribution of target variable in training and test sets\n",
    "print(\"Train set class distribution:\\n\", y_train.value_counts())\n",
    "print(\"Test set class distribution:\\n\", y_test.value_counts())"
   ]
  },
  {
   "cell_type": "code",
   "execution_count": 27,
   "id": "6e108f4e",
   "metadata": {},
   "outputs": [
    {
     "data": {
      "text/html": [
       "<div>\n",
       "<style scoped>\n",
       "    .dataframe tbody tr th:only-of-type {\n",
       "        vertical-align: middle;\n",
       "    }\n",
       "\n",
       "    .dataframe tbody tr th {\n",
       "        vertical-align: top;\n",
       "    }\n",
       "\n",
       "    .dataframe thead th {\n",
       "        text-align: right;\n",
       "    }\n",
       "</style>\n",
       "<table border=\"1\" class=\"dataframe\">\n",
       "  <thead>\n",
       "    <tr style=\"text-align: right;\">\n",
       "      <th></th>\n",
       "      <th>Station_Region</th>\n",
       "      <th>Temps_Min</th>\n",
       "      <th>Temps_Max</th>\n",
       "      <th>Rain</th>\n",
       "      <th>AM9_Temp</th>\n",
       "      <th>AM9_RH</th>\n",
       "      <th>AM9_Spd</th>\n",
       "      <th>PM3_Temp</th>\n",
       "      <th>PM3_RH</th>\n",
       "      <th>PM3_Spd</th>\n",
       "    </tr>\n",
       "  </thead>\n",
       "  <tbody>\n",
       "    <tr>\n",
       "      <th>11223</th>\n",
       "      <td>6</td>\n",
       "      <td>14.5</td>\n",
       "      <td>18.5</td>\n",
       "      <td>0.4</td>\n",
       "      <td>15.9</td>\n",
       "      <td>62</td>\n",
       "      <td>28.0</td>\n",
       "      <td>15.0</td>\n",
       "      <td>83</td>\n",
       "      <td>31.0</td>\n",
       "    </tr>\n",
       "    <tr>\n",
       "      <th>2818</th>\n",
       "      <td>9</td>\n",
       "      <td>10.7</td>\n",
       "      <td>32.1</td>\n",
       "      <td>0.0</td>\n",
       "      <td>20.9</td>\n",
       "      <td>50</td>\n",
       "      <td>4.0</td>\n",
       "      <td>31.1</td>\n",
       "      <td>19</td>\n",
       "      <td>11.0</td>\n",
       "    </tr>\n",
       "    <tr>\n",
       "      <th>9194</th>\n",
       "      <td>4</td>\n",
       "      <td>18.0</td>\n",
       "      <td>22.6</td>\n",
       "      <td>0.0</td>\n",
       "      <td>19.3</td>\n",
       "      <td>37</td>\n",
       "      <td>24.0</td>\n",
       "      <td>22.3</td>\n",
       "      <td>37</td>\n",
       "      <td>28.0</td>\n",
       "    </tr>\n",
       "    <tr>\n",
       "      <th>13072</th>\n",
       "      <td>7</td>\n",
       "      <td>16.5</td>\n",
       "      <td>21.6</td>\n",
       "      <td>0.0</td>\n",
       "      <td>17.4</td>\n",
       "      <td>48</td>\n",
       "      <td>35.0</td>\n",
       "      <td>20.1</td>\n",
       "      <td>20</td>\n",
       "      <td>28.0</td>\n",
       "    </tr>\n",
       "    <tr>\n",
       "      <th>6862</th>\n",
       "      <td>8</td>\n",
       "      <td>8.4</td>\n",
       "      <td>27.5</td>\n",
       "      <td>0.0</td>\n",
       "      <td>16.6</td>\n",
       "      <td>58</td>\n",
       "      <td>9.0</td>\n",
       "      <td>26.1</td>\n",
       "      <td>26</td>\n",
       "      <td>19.0</td>\n",
       "    </tr>\n",
       "  </tbody>\n",
       "</table>\n",
       "</div>"
      ],
      "text/plain": [
       "       Station_Region  Temps_Min  Temps_Max  Rain  AM9_Temp  AM9_RH  AM9_Spd  \\\n",
       "11223               6       14.5       18.5   0.4      15.9      62     28.0   \n",
       "2818                9       10.7       32.1   0.0      20.9      50      4.0   \n",
       "9194                4       18.0       22.6   0.0      19.3      37     24.0   \n",
       "13072               7       16.5       21.6   0.0      17.4      48     35.0   \n",
       "6862                8        8.4       27.5   0.0      16.6      58      9.0   \n",
       "\n",
       "       PM3_Temp  PM3_RH  PM3_Spd  \n",
       "11223      15.0      83     31.0  \n",
       "2818       31.1      19     11.0  \n",
       "9194       22.3      37     28.0  \n",
       "13072      20.1      20     28.0  \n",
       "6862       26.1      26     19.0  "
      ]
     },
     "execution_count": 27,
     "metadata": {},
     "output_type": "execute_result"
    }
   ],
   "source": [
    "X_train.head()"
   ]
  },
  {
   "cell_type": "code",
   "execution_count": 28,
   "id": "db081cb5",
   "metadata": {},
   "outputs": [
    {
     "data": {
      "text/html": [
       "<div>\n",
       "<style scoped>\n",
       "    .dataframe tbody tr th:only-of-type {\n",
       "        vertical-align: middle;\n",
       "    }\n",
       "\n",
       "    .dataframe tbody tr th {\n",
       "        vertical-align: top;\n",
       "    }\n",
       "\n",
       "    .dataframe thead th {\n",
       "        text-align: right;\n",
       "    }\n",
       "</style>\n",
       "<table border=\"1\" class=\"dataframe\">\n",
       "  <thead>\n",
       "    <tr style=\"text-align: right;\">\n",
       "      <th></th>\n",
       "      <th>Station_Region</th>\n",
       "      <th>Temps_Min</th>\n",
       "      <th>Temps_Max</th>\n",
       "      <th>Rain</th>\n",
       "      <th>AM9_Temp</th>\n",
       "      <th>AM9_RH</th>\n",
       "      <th>AM9_Spd</th>\n",
       "      <th>PM3_Temp</th>\n",
       "      <th>PM3_RH</th>\n",
       "      <th>PM3_Spd</th>\n",
       "    </tr>\n",
       "  </thead>\n",
       "  <tbody>\n",
       "    <tr>\n",
       "      <th>13265</th>\n",
       "      <td>7</td>\n",
       "      <td>3.8</td>\n",
       "      <td>17.8</td>\n",
       "      <td>0.0</td>\n",
       "      <td>11.0</td>\n",
       "      <td>99</td>\n",
       "      <td>15.0</td>\n",
       "      <td>17.0</td>\n",
       "      <td>65</td>\n",
       "      <td>11.0</td>\n",
       "    </tr>\n",
       "    <tr>\n",
       "      <th>16594</th>\n",
       "      <td>0</td>\n",
       "      <td>16.3</td>\n",
       "      <td>31.2</td>\n",
       "      <td>1.2</td>\n",
       "      <td>20.1</td>\n",
       "      <td>75</td>\n",
       "      <td>4.0</td>\n",
       "      <td>30.8</td>\n",
       "      <td>27</td>\n",
       "      <td>9.0</td>\n",
       "    </tr>\n",
       "    <tr>\n",
       "      <th>4151</th>\n",
       "      <td>10</td>\n",
       "      <td>9.8</td>\n",
       "      <td>28.3</td>\n",
       "      <td>0.0</td>\n",
       "      <td>17.3</td>\n",
       "      <td>70</td>\n",
       "      <td>9.0</td>\n",
       "      <td>27.3</td>\n",
       "      <td>26</td>\n",
       "      <td>9.0</td>\n",
       "    </tr>\n",
       "    <tr>\n",
       "      <th>7502</th>\n",
       "      <td>8</td>\n",
       "      <td>9.9</td>\n",
       "      <td>25.3</td>\n",
       "      <td>0.0</td>\n",
       "      <td>18.2</td>\n",
       "      <td>63</td>\n",
       "      <td>7.0</td>\n",
       "      <td>23.6</td>\n",
       "      <td>39</td>\n",
       "      <td>19.0</td>\n",
       "    </tr>\n",
       "    <tr>\n",
       "      <th>13081</th>\n",
       "      <td>7</td>\n",
       "      <td>10.8</td>\n",
       "      <td>34.7</td>\n",
       "      <td>0.0</td>\n",
       "      <td>25.7</td>\n",
       "      <td>31</td>\n",
       "      <td>15.0</td>\n",
       "      <td>33.5</td>\n",
       "      <td>16</td>\n",
       "      <td>6.0</td>\n",
       "    </tr>\n",
       "  </tbody>\n",
       "</table>\n",
       "</div>"
      ],
      "text/plain": [
       "       Station_Region  Temps_Min  Temps_Max  Rain  AM9_Temp  AM9_RH  AM9_Spd  \\\n",
       "13265               7        3.8       17.8   0.0      11.0      99     15.0   \n",
       "16594               0       16.3       31.2   1.2      20.1      75      4.0   \n",
       "4151               10        9.8       28.3   0.0      17.3      70      9.0   \n",
       "7502                8        9.9       25.3   0.0      18.2      63      7.0   \n",
       "13081               7       10.8       34.7   0.0      25.7      31     15.0   \n",
       "\n",
       "       PM3_Temp  PM3_RH  PM3_Spd  \n",
       "13265      17.0      65     11.0  \n",
       "16594      30.8      27      9.0  \n",
       "4151       27.3      26      9.0  \n",
       "7502       23.6      39     19.0  \n",
       "13081      33.5      16      6.0  "
      ]
     },
     "execution_count": 28,
     "metadata": {},
     "output_type": "execute_result"
    }
   ],
   "source": [
    "X_test.head()"
   ]
  },
  {
   "cell_type": "code",
   "execution_count": 29,
   "id": "fd3fc7ec",
   "metadata": {},
   "outputs": [
    {
     "data": {
      "text/html": [
       "<div>\n",
       "<style scoped>\n",
       "    .dataframe tbody tr th:only-of-type {\n",
       "        vertical-align: middle;\n",
       "    }\n",
       "\n",
       "    .dataframe tbody tr th {\n",
       "        vertical-align: top;\n",
       "    }\n",
       "\n",
       "    .dataframe thead th {\n",
       "        text-align: right;\n",
       "    }\n",
       "</style>\n",
       "<table border=\"1\" class=\"dataframe\">\n",
       "  <thead>\n",
       "    <tr style=\"text-align: right;\">\n",
       "      <th></th>\n",
       "      <th>Bushfire_Event_Target</th>\n",
       "    </tr>\n",
       "  </thead>\n",
       "  <tbody>\n",
       "    <tr>\n",
       "      <th>11223</th>\n",
       "      <td>1</td>\n",
       "    </tr>\n",
       "    <tr>\n",
       "      <th>2818</th>\n",
       "      <td>0</td>\n",
       "    </tr>\n",
       "    <tr>\n",
       "      <th>9194</th>\n",
       "      <td>0</td>\n",
       "    </tr>\n",
       "    <tr>\n",
       "      <th>13072</th>\n",
       "      <td>1</td>\n",
       "    </tr>\n",
       "    <tr>\n",
       "      <th>6862</th>\n",
       "      <td>1</td>\n",
       "    </tr>\n",
       "  </tbody>\n",
       "</table>\n",
       "</div>"
      ],
      "text/plain": [
       "       Bushfire_Event_Target\n",
       "11223                      1\n",
       "2818                       0\n",
       "9194                       0\n",
       "13072                      1\n",
       "6862                       1"
      ]
     },
     "execution_count": 29,
     "metadata": {},
     "output_type": "execute_result"
    }
   ],
   "source": [
    "y_train.head()"
   ]
  },
  {
   "cell_type": "code",
   "execution_count": 30,
   "id": "dd37a759",
   "metadata": {},
   "outputs": [
    {
     "name": "stdout",
     "output_type": "stream",
     "text": [
      "<class 'pandas.core.frame.DataFrame'>\n",
      "Index: 68 entries, 13265 to 7492\n",
      "Data columns (total 10 columns):\n",
      " #   Column          Non-Null Count  Dtype  \n",
      "---  ------          --------------  -----  \n",
      " 0   Station_Region  68 non-null     int32  \n",
      " 1   Temps_Min       68 non-null     float64\n",
      " 2   Temps_Max       68 non-null     float64\n",
      " 3   Rain            68 non-null     float64\n",
      " 4   AM9_Temp        68 non-null     float64\n",
      " 5   AM9_RH          68 non-null     int64  \n",
      " 6   AM9_Spd         68 non-null     float64\n",
      " 7   PM3_Temp        68 non-null     float64\n",
      " 8   PM3_RH          68 non-null     int64  \n",
      " 9   PM3_Spd         68 non-null     float64\n",
      "dtypes: float64(7), int32(1), int64(2)\n",
      "memory usage: 5.6 KB\n"
     ]
    }
   ],
   "source": [
    "X_test.info()"
   ]
  },
  {
   "cell_type": "markdown",
   "id": "a442eb99",
   "metadata": {},
   "source": [
    "# Randomn Forest Classifier"
   ]
  },
  {
   "cell_type": "code",
   "execution_count": 31,
   "id": "00fa258a",
   "metadata": {},
   "outputs": [],
   "source": [
    "# Initialize RandomForestClassifier with class_weight=\"balanced\"\n",
    "rf = RandomForestClassifier(class_weight='balanced', random_state=42)"
   ]
  },
  {
   "cell_type": "code",
   "execution_count": 32,
   "id": "ae96b0e3",
   "metadata": {},
   "outputs": [
    {
     "name": "stdout",
     "output_type": "stream",
     "text": [
      "Cross-validation scores: [0.74545455 0.63636364 0.68518519 0.66666667 0.72222222]\n"
     ]
    }
   ],
   "source": [
    "# Perform cross-validation\n",
    "cv_scores = cross_val_score(rf, X_train, y_train.values.ravel(), cv=5)\n",
    "print(\"Cross-validation scores:\", cv_scores)"
   ]
  },
  {
   "cell_type": "code",
   "execution_count": 33,
   "id": "10daab41",
   "metadata": {},
   "outputs": [
    {
     "name": "stderr",
     "output_type": "stream",
     "text": [
      "C:\\Users\\Thinithi\\anaconda3\\Lib\\site-packages\\sklearn\\base.py:1151: DataConversionWarning: A column-vector y was passed when a 1d array was expected. Please change the shape of y to (n_samples,), for example using ravel().\n",
      "  return fit_method(estimator, *args, **kwargs)\n"
     ]
    },
    {
     "data": {
      "text/html": [
       "<style>#sk-container-id-1 {color: black;}#sk-container-id-1 pre{padding: 0;}#sk-container-id-1 div.sk-toggleable {background-color: white;}#sk-container-id-1 label.sk-toggleable__label {cursor: pointer;display: block;width: 100%;margin-bottom: 0;padding: 0.3em;box-sizing: border-box;text-align: center;}#sk-container-id-1 label.sk-toggleable__label-arrow:before {content: \"▸\";float: left;margin-right: 0.25em;color: #696969;}#sk-container-id-1 label.sk-toggleable__label-arrow:hover:before {color: black;}#sk-container-id-1 div.sk-estimator:hover label.sk-toggleable__label-arrow:before {color: black;}#sk-container-id-1 div.sk-toggleable__content {max-height: 0;max-width: 0;overflow: hidden;text-align: left;background-color: #f0f8ff;}#sk-container-id-1 div.sk-toggleable__content pre {margin: 0.2em;color: black;border-radius: 0.25em;background-color: #f0f8ff;}#sk-container-id-1 input.sk-toggleable__control:checked~div.sk-toggleable__content {max-height: 200px;max-width: 100%;overflow: auto;}#sk-container-id-1 input.sk-toggleable__control:checked~label.sk-toggleable__label-arrow:before {content: \"▾\";}#sk-container-id-1 div.sk-estimator input.sk-toggleable__control:checked~label.sk-toggleable__label {background-color: #d4ebff;}#sk-container-id-1 div.sk-label input.sk-toggleable__control:checked~label.sk-toggleable__label {background-color: #d4ebff;}#sk-container-id-1 input.sk-hidden--visually {border: 0;clip: rect(1px 1px 1px 1px);clip: rect(1px, 1px, 1px, 1px);height: 1px;margin: -1px;overflow: hidden;padding: 0;position: absolute;width: 1px;}#sk-container-id-1 div.sk-estimator {font-family: monospace;background-color: #f0f8ff;border: 1px dotted black;border-radius: 0.25em;box-sizing: border-box;margin-bottom: 0.5em;}#sk-container-id-1 div.sk-estimator:hover {background-color: #d4ebff;}#sk-container-id-1 div.sk-parallel-item::after {content: \"\";width: 100%;border-bottom: 1px solid gray;flex-grow: 1;}#sk-container-id-1 div.sk-label:hover label.sk-toggleable__label {background-color: #d4ebff;}#sk-container-id-1 div.sk-serial::before {content: \"\";position: absolute;border-left: 1px solid gray;box-sizing: border-box;top: 0;bottom: 0;left: 50%;z-index: 0;}#sk-container-id-1 div.sk-serial {display: flex;flex-direction: column;align-items: center;background-color: white;padding-right: 0.2em;padding-left: 0.2em;position: relative;}#sk-container-id-1 div.sk-item {position: relative;z-index: 1;}#sk-container-id-1 div.sk-parallel {display: flex;align-items: stretch;justify-content: center;background-color: white;position: relative;}#sk-container-id-1 div.sk-item::before, #sk-container-id-1 div.sk-parallel-item::before {content: \"\";position: absolute;border-left: 1px solid gray;box-sizing: border-box;top: 0;bottom: 0;left: 50%;z-index: -1;}#sk-container-id-1 div.sk-parallel-item {display: flex;flex-direction: column;z-index: 1;position: relative;background-color: white;}#sk-container-id-1 div.sk-parallel-item:first-child::after {align-self: flex-end;width: 50%;}#sk-container-id-1 div.sk-parallel-item:last-child::after {align-self: flex-start;width: 50%;}#sk-container-id-1 div.sk-parallel-item:only-child::after {width: 0;}#sk-container-id-1 div.sk-dashed-wrapped {border: 1px dashed gray;margin: 0 0.4em 0.5em 0.4em;box-sizing: border-box;padding-bottom: 0.4em;background-color: white;}#sk-container-id-1 div.sk-label label {font-family: monospace;font-weight: bold;display: inline-block;line-height: 1.2em;}#sk-container-id-1 div.sk-label-container {text-align: center;}#sk-container-id-1 div.sk-container {/* jupyter's `normalize.less` sets `[hidden] { display: none; }` but bootstrap.min.css set `[hidden] { display: none !important; }` so we also need the `!important` here to be able to override the default hidden behavior on the sphinx rendered scikit-learn.org. See: https://github.com/scikit-learn/scikit-learn/issues/21755 */display: inline-block !important;position: relative;}#sk-container-id-1 div.sk-text-repr-fallback {display: none;}</style><div id=\"sk-container-id-1\" class=\"sk-top-container\"><div class=\"sk-text-repr-fallback\"><pre>RandomForestClassifier(class_weight=&#x27;balanced&#x27;, random_state=42)</pre><b>In a Jupyter environment, please rerun this cell to show the HTML representation or trust the notebook. <br />On GitHub, the HTML representation is unable to render, please try loading this page with nbviewer.org.</b></div><div class=\"sk-container\" hidden><div class=\"sk-item\"><div class=\"sk-estimator sk-toggleable\"><input class=\"sk-toggleable__control sk-hidden--visually\" id=\"sk-estimator-id-1\" type=\"checkbox\" checked><label for=\"sk-estimator-id-1\" class=\"sk-toggleable__label sk-toggleable__label-arrow\">RandomForestClassifier</label><div class=\"sk-toggleable__content\"><pre>RandomForestClassifier(class_weight=&#x27;balanced&#x27;, random_state=42)</pre></div></div></div></div></div>"
      ],
      "text/plain": [
       "RandomForestClassifier(class_weight='balanced', random_state=42)"
      ]
     },
     "execution_count": 33,
     "metadata": {},
     "output_type": "execute_result"
    }
   ],
   "source": [
    "rf.fit(X_train, y_train)"
   ]
  },
  {
   "cell_type": "code",
   "execution_count": 34,
   "id": "a39e75f5",
   "metadata": {},
   "outputs": [],
   "source": [
    "# Make predictions\n",
    "y_pred = rf.predict(X_test)"
   ]
  },
  {
   "cell_type": "code",
   "execution_count": 35,
   "id": "584ed0e9",
   "metadata": {},
   "outputs": [
    {
     "name": "stdout",
     "output_type": "stream",
     "text": [
      "Accuracy: 0.6323529411764706\n",
      "Confusion Matrix:\n",
      " [[30 10]\n",
      " [15 13]]\n",
      "Precision: 0.5652173913043478\n",
      "Recall: 0.4642857142857143\n",
      "F1 Score: 0.5098039215686274\n"
     ]
    }
   ],
   "source": [
    "# Evaluate model performance\n",
    "accuracy = accuracy_score(y_test, y_pred)\n",
    "print(\"Accuracy:\", accuracy)\n",
    "\n",
    "# Generate a confusion matrix\n",
    "conf_matrix = confusion_matrix(y_test, y_pred)\n",
    "print(\"Confusion Matrix:\\n\", conf_matrix)\n",
    "\n",
    "# Calculate precision, recall, and F1 score\n",
    "precision = precision_score(y_test, y_pred)\n",
    "recall = recall_score(y_test, y_pred)\n",
    "f1 = f1_score(y_test, y_pred)\n",
    "\n",
    "# Print precision, recall, and F1 score\n",
    "print(\"Precision:\", precision)\n",
    "print(\"Recall:\", recall)\n",
    "print(\"F1 Score:\", f1)"
   ]
  },
  {
   "cell_type": "code",
   "execution_count": 36,
   "id": "4daffcbf",
   "metadata": {},
   "outputs": [
    {
     "data": {
      "image/png": "[encoded data removed]",
      "text/plain": [
       "<Figure size 1000x600 with 1 Axes>"
      ]
     },
     "metadata": {},
     "output_type": "display_data"
    }
   ],
   "source": [
    "# Get feature importances\n",
    "feature_importances = pd.DataFrame(rf.feature_importances_, index=X.columns, columns=['importance'])\n",
    "feature_importances['abs_importance'] = feature_importances['importance'].abs()\n",
    "\n",
    "# Filter feature importances based on absolute value\n",
    "feature_filtered = feature_importances[feature_importances['abs_importance'] > 0.05].sort_values(by='abs_importance', ascending=False)\n",
    "\n",
    "# Plotting\n",
    "plt.figure(figsize=(10, 6))\n",
    "sns.barplot(x=feature_filtered['importance'], y=feature_filtered.index, palette='viridis')\n",
    "plt.title('Feature Importance from Random Forest Classifier')\n",
    "plt.xlabel('Importance Score')\n",
    "plt.ylabel('Features')\n",
    "plt.axvline(0, color='grey', linestyle='--')  # Add a vertical line at x=0\n",
    "plt.show()"
   ]
  },
  {
   "cell_type": "markdown",
   "id": "a27f678e",
   "metadata": {},
   "source": [
    "# Dimensionality Reduction"
   ]
  },
  {
   "cell_type": "code",
   "execution_count": 37,
   "id": "7300e333",
   "metadata": {},
   "outputs": [
    {
     "name": "stdout",
     "output_type": "stream",
     "text": [
      "Train set class distribution:\n",
      " Bushfire_Event_Target\n",
      "0                        160\n",
      "1                        112\n",
      "Name: count, dtype: int64\n",
      "Test set class distribution:\n",
      " Bushfire_Event_Target\n",
      "0                        40\n",
      "1                        28\n",
      "Name: count, dtype: int64\n"
     ]
    }
   ],
   "source": [
    "features = ['Station_Region','Temps_Min','Temps_Max','Rain','AM9_RH','AM9_Spd','PM3_RH']\n",
    "X = df.loc[:, features]\n",
    "y = df.loc[:, ['Bushfire_Event_Target']]\n",
    "\n",
    "# Perform stratified split to preserve the class distribution\n",
    "X_train, X_test, y_train, y_test = train_test_split(X, y, test_size=0.20, random_state=0, stratify=y)\n",
    "\n",
    "# Check the distribution of target variable in training and test sets\n",
    "print(\"Train set class distribution:\\n\", y_train.value_counts())\n",
    "print(\"Test set class distribution:\\n\", y_test.value_counts())"
   ]
  },
  {
   "cell_type": "code",
   "execution_count": 38,
   "id": "38538f77",
   "metadata": {},
   "outputs": [],
   "source": [
    "# Initialize RandomForestClassifier with class_weight=\"balanced\"\n",
    "rf = RandomForestClassifier(class_weight='balanced', random_state=42)"
   ]
  },
  {
   "cell_type": "code",
   "execution_count": 39,
   "id": "999474fd",
   "metadata": {},
   "outputs": [
    {
     "name": "stdout",
     "output_type": "stream",
     "text": [
      "Cross-validation scores: [0.70909091 0.58181818 0.72222222 0.72222222 0.7962963 ]\n"
     ]
    }
   ],
   "source": [
    "# Perform cross-validation\n",
    "cv_scores = cross_val_score(rf, X_train, y_train.values.ravel(), cv=5)\n",
    "print(\"Cross-validation scores:\", cv_scores)"
   ]
  },
  {
   "cell_type": "code",
   "execution_count": 40,
   "id": "546423fa",
   "metadata": {},
   "outputs": [
    {
     "name": "stderr",
     "output_type": "stream",
     "text": [
      "C:\\Users\\Thinithi\\anaconda3\\Lib\\site-packages\\sklearn\\base.py:1151: DataConversionWarning: A column-vector y was passed when a 1d array was expected. Please change the shape of y to (n_samples,), for example using ravel().\n",
      "  return fit_method(estimator, *args, **kwargs)\n"
     ]
    },
    {
     "data": {
      "text/html": [
       "<style>#sk-container-id-2 {color: black;}#sk-container-id-2 pre{padding: 0;}#sk-container-id-2 div.sk-toggleable {background-color: white;}#sk-container-id-2 label.sk-toggleable__label {cursor: pointer;display: block;width: 100%;margin-bottom: 0;padding: 0.3em;box-sizing: border-box;text-align: center;}#sk-container-id-2 label.sk-toggleable__label-arrow:before {content: \"▸\";float: left;margin-right: 0.25em;color: #696969;}#sk-container-id-2 label.sk-toggleable__label-arrow:hover:before {color: black;}#sk-container-id-2 div.sk-estimator:hover label.sk-toggleable__label-arrow:before {color: black;}#sk-container-id-2 div.sk-toggleable__content {max-height: 0;max-width: 0;overflow: hidden;text-align: left;background-color: #f0f8ff;}#sk-container-id-2 div.sk-toggleable__content pre {margin: 0.2em;color: black;border-radius: 0.25em;background-color: #f0f8ff;}#sk-container-id-2 input.sk-toggleable__control:checked~div.sk-toggleable__content {max-height: 200px;max-width: 100%;overflow: auto;}#sk-container-id-2 input.sk-toggleable__control:checked~label.sk-toggleable__label-arrow:before {content: \"▾\";}#sk-container-id-2 div.sk-estimator input.sk-toggleable__control:checked~label.sk-toggleable__label {background-color: #d4ebff;}#sk-container-id-2 div.sk-label input.sk-toggleable__control:checked~label.sk-toggleable__label {background-color: #d4ebff;}#sk-container-id-2 input.sk-hidden--visually {border: 0;clip: rect(1px 1px 1px 1px);clip: rect(1px, 1px, 1px, 1px);height: 1px;margin: -1px;overflow: hidden;padding: 0;position: absolute;width: 1px;}#sk-container-id-2 div.sk-estimator {font-family: monospace;background-color: #f0f8ff;border: 1px dotted black;border-radius: 0.25em;box-sizing: border-box;margin-bottom: 0.5em;}#sk-container-id-2 div.sk-estimator:hover {background-color: #d4ebff;}#sk-container-id-2 div.sk-parallel-item::after {content: \"\";width: 100%;border-bottom: 1px solid gray;flex-grow: 1;}#sk-container-id-2 div.sk-label:hover label.sk-toggleable__label {background-color: #d4ebff;}#sk-container-id-2 div.sk-serial::before {content: \"\";position: absolute;border-left: 1px solid gray;box-sizing: border-box;top: 0;bottom: 0;left: 50%;z-index: 0;}#sk-container-id-2 div.sk-serial {display: flex;flex-direction: column;align-items: center;background-color: white;padding-right: 0.2em;padding-left: 0.2em;position: relative;}#sk-container-id-2 div.sk-item {position: relative;z-index: 1;}#sk-container-id-2 div.sk-parallel {display: flex;align-items: stretch;justify-content: center;background-color: white;position: relative;}#sk-container-id-2 div.sk-item::before, #sk-container-id-2 div.sk-parallel-item::before {content: \"\";position: absolute;border-left: 1px solid gray;box-sizing: border-box;top: 0;bottom: 0;left: 50%;z-index: -1;}#sk-container-id-2 div.sk-parallel-item {display: flex;flex-direction: column;z-index: 1;position: relative;background-color: white;}#sk-container-id-2 div.sk-parallel-item:first-child::after {align-self: flex-end;width: 50%;}#sk-container-id-2 div.sk-parallel-item:last-child::after {align-self: flex-start;width: 50%;}#sk-container-id-2 div.sk-parallel-item:only-child::after {width: 0;}#sk-container-id-2 div.sk-dashed-wrapped {border: 1px dashed gray;margin: 0 0.4em 0.5em 0.4em;box-sizing: border-box;padding-bottom: 0.4em;background-color: white;}#sk-container-id-2 div.sk-label label {font-family: monospace;font-weight: bold;display: inline-block;line-height: 1.2em;}#sk-container-id-2 div.sk-label-container {text-align: center;}#sk-container-id-2 div.sk-container {/* jupyter's `normalize.less` sets `[hidden] { display: none; }` but bootstrap.min.css set `[hidden] { display: none !important; }` so we also need the `!important` here to be able to override the default hidden behavior on the sphinx rendered scikit-learn.org. See: https://github.com/scikit-learn/scikit-learn/issues/21755 */display: inline-block !important;position: relative;}#sk-container-id-2 div.sk-text-repr-fallback {display: none;}</style><div id=\"sk-container-id-2\" class=\"sk-top-container\"><div class=\"sk-text-repr-fallback\"><pre>RandomForestClassifier(class_weight=&#x27;balanced&#x27;, random_state=42)</pre><b>In a Jupyter environment, please rerun this cell to show the HTML representation or trust the notebook. <br />On GitHub, the HTML representation is unable to render, please try loading this page with nbviewer.org.</b></div><div class=\"sk-container\" hidden><div class=\"sk-item\"><div class=\"sk-estimator sk-toggleable\"><input class=\"sk-toggleable__control sk-hidden--visually\" id=\"sk-estimator-id-2\" type=\"checkbox\" checked><label for=\"sk-estimator-id-2\" class=\"sk-toggleable__label sk-toggleable__label-arrow\">RandomForestClassifier</label><div class=\"sk-toggleable__content\"><pre>RandomForestClassifier(class_weight=&#x27;balanced&#x27;, random_state=42)</pre></div></div></div></div></div>"
      ],
      "text/plain": [
       "RandomForestClassifier(class_weight='balanced', random_state=42)"
      ]
     },
     "execution_count": 40,
     "metadata": {},
     "output_type": "execute_result"
    }
   ],
   "source": [
    "rf.fit(X_train, y_train)"
   ]
  },
  {
   "cell_type": "code",
   "execution_count": 41,
   "id": "007027fd",
   "metadata": {},
   "outputs": [
    {
     "name": "stdout",
     "output_type": "stream",
     "text": [
      "Accuracy: 0.6323529411764706\n",
      "Confusion Matrix:\n",
      " [[30 10]\n",
      " [15 13]]\n",
      "Precision: 0.5652173913043478\n",
      "Recall: 0.4642857142857143\n",
      "F1 Score: 0.5098039215686274\n"
     ]
    }
   ],
   "source": [
    "# Evaluate model performance\n",
    "accuracy = accuracy_score(y_test, y_pred)\n",
    "print(\"Accuracy:\", accuracy)\n",
    "\n",
    "# Generate a confusion matrix\n",
    "conf_matrix = confusion_matrix(y_test, y_pred)\n",
    "print(\"Confusion Matrix:\\n\", conf_matrix)\n",
    "\n",
    "# Calculate precision, recall, and F1 score\n",
    "precision = precision_score(y_test, y_pred)\n",
    "recall = recall_score(y_test, y_pred)\n",
    "f1 = f1_score(y_test, y_pred)\n",
    "\n",
    "# Print precision, recall, and F1 score\n",
    "print(\"Precision:\", precision)\n",
    "print(\"Recall:\", recall)\n",
    "print(\"F1 Score:\", f1)"
   ]
  },
  {
   "cell_type": "markdown",
   "id": "4ef21f53",
   "metadata": {},
   "source": [
    "Dimesionality Reduced but the model performance is kept near the same level. By removing AM9_Temp majority of the model performance (F1 Score) increased as well. "
   ]
  },
  {
   "cell_type": "markdown",
   "id": "2a7b5353",
   "metadata": {},
   "source": [
    "# Lositic regression with probability"
   ]
  },
  {
   "cell_type": "code",
   "execution_count": 784,
   "id": "807ce8f3",
   "metadata": {},
   "outputs": [],
   "source": [
    "# Feature scaling (important for logistic regression)\n",
    "scaler = StandardScaler()\n",
    "X_train_scaled = scaler.fit_transform(X_train)\n",
    "X_test_scaled = scaler.transform(X_test)"
   ]
  },
  {
   "cell_type": "code",
   "execution_count": 785,
   "id": "0f41f1f8",
   "metadata": {},
   "outputs": [
    {
     "name": "stdout",
     "output_type": "stream",
     "text": [
      "Cross-validation scores: [0.63636364 0.61818182 0.75925926 0.62962963 0.66666667]\n"
     ]
    },
    {
     "name": "stderr",
     "output_type": "stream",
     "text": [
      "C:\\Users\\Thinithi\\anaconda3\\Lib\\site-packages\\sklearn\\linear_model\\_logistic.py:460: ConvergenceWarning: lbfgs failed to converge (status=1):\n",
      "STOP: TOTAL NO. of ITERATIONS REACHED LIMIT.\n",
      "\n",
      "Increase the number of iterations (max_iter) or scale the data as shown in:\n",
      "    https://scikit-learn.org/stable/modules/preprocessing.html\n",
      "Please also refer to the documentation for alternative solver options:\n",
      "    https://scikit-learn.org/stable/modules/linear_model.html#logistic-regression\n",
      "  n_iter_i = _check_optimize_result(\n",
      "C:\\Users\\Thinithi\\anaconda3\\Lib\\site-packages\\sklearn\\linear_model\\_logistic.py:460: ConvergenceWarning: lbfgs failed to converge (status=1):\n",
      "STOP: TOTAL NO. of ITERATIONS REACHED LIMIT.\n",
      "\n",
      "Increase the number of iterations (max_iter) or scale the data as shown in:\n",
      "    https://scikit-learn.org/stable/modules/preprocessing.html\n",
      "Please also refer to the documentation for alternative solver options:\n",
      "    https://scikit-learn.org/stable/modules/linear_model.html#logistic-regression\n",
      "  n_iter_i = _check_optimize_result(\n",
      "C:\\Users\\Thinithi\\anaconda3\\Lib\\site-packages\\sklearn\\utils\\validation.py:1184: DataConversionWarning: A column-vector y was passed when a 1d array was expected. Please change the shape of y to (n_samples, ), for example using ravel().\n",
      "  y = column_or_1d(y, warn=True)\n"
     ]
    },
    {
     "data": {
      "text/html": [
       "<style>#sk-container-id-102 {color: black;}#sk-container-id-102 pre{padding: 0;}#sk-container-id-102 div.sk-toggleable {background-color: white;}#sk-container-id-102 label.sk-toggleable__label {cursor: pointer;display: block;width: 100%;margin-bottom: 0;padding: 0.3em;box-sizing: border-box;text-align: center;}#sk-container-id-102 label.sk-toggleable__label-arrow:before {content: \"▸\";float: left;margin-right: 0.25em;color: #696969;}#sk-container-id-102 label.sk-toggleable__label-arrow:hover:before {color: black;}#sk-container-id-102 div.sk-estimator:hover label.sk-toggleable__label-arrow:before {color: black;}#sk-container-id-102 div.sk-toggleable__content {max-height: 0;max-width: 0;overflow: hidden;text-align: left;background-color: #f0f8ff;}#sk-container-id-102 div.sk-toggleable__content pre {margin: 0.2em;color: black;border-radius: 0.25em;background-color: #f0f8ff;}#sk-container-id-102 input.sk-toggleable__control:checked~div.sk-toggleable__content {max-height: 200px;max-width: 100%;overflow: auto;}#sk-container-id-102 input.sk-toggleable__control:checked~label.sk-toggleable__label-arrow:before {content: \"▾\";}#sk-container-id-102 div.sk-estimator input.sk-toggleable__control:checked~label.sk-toggleable__label {background-color: #d4ebff;}#sk-container-id-102 div.sk-label input.sk-toggleable__control:checked~label.sk-toggleable__label {background-color: #d4ebff;}#sk-container-id-102 input.sk-hidden--visually {border: 0;clip: rect(1px 1px 1px 1px);clip: rect(1px, 1px, 1px, 1px);height: 1px;margin: -1px;overflow: hidden;padding: 0;position: absolute;width: 1px;}#sk-container-id-102 div.sk-estimator {font-family: monospace;background-color: #f0f8ff;border: 1px dotted black;border-radius: 0.25em;box-sizing: border-box;margin-bottom: 0.5em;}#sk-container-id-102 div.sk-estimator:hover {background-color: #d4ebff;}#sk-container-id-102 div.sk-parallel-item::after {content: \"\";width: 100%;border-bottom: 1px solid gray;flex-grow: 1;}#sk-container-id-102 div.sk-label:hover label.sk-toggleable__label {background-color: #d4ebff;}#sk-container-id-102 div.sk-serial::before {content: \"\";position: absolute;border-left: 1px solid gray;box-sizing: border-box;top: 0;bottom: 0;left: 50%;z-index: 0;}#sk-container-id-102 div.sk-serial {display: flex;flex-direction: column;align-items: center;background-color: white;padding-right: 0.2em;padding-left: 0.2em;position: relative;}#sk-container-id-102 div.sk-item {position: relative;z-index: 1;}#sk-container-id-102 div.sk-parallel {display: flex;align-items: stretch;justify-content: center;background-color: white;position: relative;}#sk-container-id-102 div.sk-item::before, #sk-container-id-102 div.sk-parallel-item::before {content: \"\";position: absolute;border-left: 1px solid gray;box-sizing: border-box;top: 0;bottom: 0;left: 50%;z-index: -1;}#sk-container-id-102 div.sk-parallel-item {display: flex;flex-direction: column;z-index: 1;position: relative;background-color: white;}#sk-container-id-102 div.sk-parallel-item:first-child::after {align-self: flex-end;width: 50%;}#sk-container-id-102 div.sk-parallel-item:last-child::after {align-self: flex-start;width: 50%;}#sk-container-id-102 div.sk-parallel-item:only-child::after {width: 0;}#sk-container-id-102 div.sk-dashed-wrapped {border: 1px dashed gray;margin: 0 0.4em 0.5em 0.4em;box-sizing: border-box;padding-bottom: 0.4em;background-color: white;}#sk-container-id-102 div.sk-label label {font-family: monospace;font-weight: bold;display: inline-block;line-height: 1.2em;}#sk-container-id-102 div.sk-label-container {text-align: center;}#sk-container-id-102 div.sk-container {/* jupyter's `normalize.less` sets `[hidden] { display: none; }` but bootstrap.min.css set `[hidden] { display: none !important; }` so we also need the `!important` here to be able to override the default hidden behavior on the sphinx rendered scikit-learn.org. See: https://github.com/scikit-learn/scikit-learn/issues/21755 */display: inline-block !important;position: relative;}#sk-container-id-102 div.sk-text-repr-fallback {display: none;}</style><div id=\"sk-container-id-102\" class=\"sk-top-container\"><div class=\"sk-text-repr-fallback\"><pre>LogisticRegression(class_weight=&#x27;balanced&#x27;, random_state=0)</pre><b>In a Jupyter environment, please rerun this cell to show the HTML representation or trust the notebook. <br />On GitHub, the HTML representation is unable to render, please try loading this page with nbviewer.org.</b></div><div class=\"sk-container\" hidden><div class=\"sk-item\"><div class=\"sk-estimator sk-toggleable\"><input class=\"sk-toggleable__control sk-hidden--visually\" id=\"sk-estimator-id-102\" type=\"checkbox\" checked><label for=\"sk-estimator-id-102\" class=\"sk-toggleable__label sk-toggleable__label-arrow\">LogisticRegression</label><div class=\"sk-toggleable__content\"><pre>LogisticRegression(class_weight=&#x27;balanced&#x27;, random_state=0)</pre></div></div></div></div></div>"
      ],
      "text/plain": [
       "LogisticRegression(class_weight='balanced', random_state=0)"
      ]
     },
     "execution_count": 785,
     "metadata": {},
     "output_type": "execute_result"
    }
   ],
   "source": [
    "# Create a logistic regression model with class weights\n",
    "log_reg = LogisticRegression(random_state=0, class_weight='balanced')\n",
    "\n",
    "# Perform cross-validation\n",
    "cv_scores = cross_val_score(log_reg, X_train, y_train.values.ravel(), cv=5)\n",
    "print(\"Cross-validation scores:\", cv_scores)\n",
    "\n",
    "# Train the model\n",
    "log_reg.fit(X_train_scaled, y_train)"
   ]
  },
  {
   "cell_type": "code",
   "execution_count": 786,
   "id": "a841cbaf",
   "metadata": {},
   "outputs": [],
   "source": [
    "# Make predictions\n",
    "y_pred = log_reg.predict(X_test_scaled)"
   ]
  },
  {
   "cell_type": "code",
   "execution_count": 787,
   "id": "6e1cf937",
   "metadata": {},
   "outputs": [
    {
     "name": "stdout",
     "output_type": "stream",
     "text": [
      "Accuracy: 0.6470588235294118\n",
      "Confusion Matrix:\n",
      " [[27 13]\n",
      " [11 17]]\n",
      "Precision: 0.5666666666666667\n",
      "Recall: 0.6071428571428571\n",
      "F1 Score: 0.5862068965517241\n"
     ]
    }
   ],
   "source": [
    "# Evaluate model performance\n",
    "accuracy = accuracy_score(y_test, y_pred)\n",
    "print(\"Accuracy:\", accuracy)\n",
    "\n",
    "# Generate a confusion matrix\n",
    "conf_matrix = confusion_matrix(y_test, y_pred)\n",
    "print(\"Confusion Matrix:\\n\", conf_matrix)\n",
    "\n",
    "# Calculate precision, recall, and F1 score\n",
    "precision = precision_score(y_test, y_pred)\n",
    "recall = recall_score(y_test, y_pred)\n",
    "f1 = f1_score(y_test, y_pred)\n",
    "\n",
    "# Print precision, recall, and F1 score\n",
    "print(\"Precision:\", precision)\n",
    "print(\"Recall:\", recall)\n",
    "print(\"F1 Score:\", f1)"
   ]
  },
  {
   "cell_type": "code",
   "execution_count": 788,
   "id": "5febdebd",
   "metadata": {},
   "outputs": [
    {
     "name": "stdout",
     "output_type": "stream",
     "text": [
      "       Station_Region  Temps_Min  Temps_Max  Rain  AM9_RH  AM9_Spd  PM3_RH  \\\n",
      "13265               7        3.8       17.8   0.0      99     15.0      65   \n",
      "16594               0       16.3       31.2   1.2      75      4.0      27   \n",
      "4151               10        9.8       28.3   0.0      70      9.0      26   \n",
      "7502                8        9.9       25.3   0.0      63      7.0      39   \n",
      "13081               7       10.8       34.7   0.0      31     15.0      16   \n",
      "\n",
      "       Predicted_Class  Probability_Class_0  Probability_Class_1  \n",
      "13265                0             0.882791             0.117209  \n",
      "16594                1             0.312355             0.687645  \n",
      "4151                 0             0.600457             0.399543  \n",
      "7502                 0             0.515639             0.484361  \n",
      "13081                1             0.290802             0.709198  \n"
     ]
    }
   ],
   "source": [
    "# Make predictions with probabilities\n",
    "y_pred_proba = log_reg.predict_proba(X_test_scaled)\n",
    "\n",
    "# Create a DataFrame to display test data with predicted probabilities\n",
    "test_data_with_proba = pd.DataFrame(X_test, columns=features)\n",
    "test_data_with_proba['Predicted_Class'] = log_reg.predict(X_test_scaled)\n",
    "test_data_with_proba['Probability_Class_0'] = y_pred_proba[:, 0]\n",
    "test_data_with_proba['Probability_Class_1'] = y_pred_proba[:, 1]\n",
    "\n",
    "# Display the first few rows of the test data with probabilities\n",
    "print(test_data_with_proba.head())"
   ]
  },
  {
   "cell_type": "markdown",
   "id": "b46dcd85",
   "metadata": {},
   "source": [
    "# Decision Tree Classifier"
   ]
  },
  {
   "cell_type": "code",
   "execution_count": 789,
   "id": "51eb20a3",
   "metadata": {},
   "outputs": [
    {
     "name": "stdout",
     "output_type": "stream",
     "text": [
      "Cross-validation scores: [0.6        0.63636364 0.66666667 0.66666667 0.68518519]\n"
     ]
    },
    {
     "data": {
      "text/html": [
       "<style>#sk-container-id-103 {color: black;}#sk-container-id-103 pre{padding: 0;}#sk-container-id-103 div.sk-toggleable {background-color: white;}#sk-container-id-103 label.sk-toggleable__label {cursor: pointer;display: block;width: 100%;margin-bottom: 0;padding: 0.3em;box-sizing: border-box;text-align: center;}#sk-container-id-103 label.sk-toggleable__label-arrow:before {content: \"▸\";float: left;margin-right: 0.25em;color: #696969;}#sk-container-id-103 label.sk-toggleable__label-arrow:hover:before {color: black;}#sk-container-id-103 div.sk-estimator:hover label.sk-toggleable__label-arrow:before {color: black;}#sk-container-id-103 div.sk-toggleable__content {max-height: 0;max-width: 0;overflow: hidden;text-align: left;background-color: #f0f8ff;}#sk-container-id-103 div.sk-toggleable__content pre {margin: 0.2em;color: black;border-radius: 0.25em;background-color: #f0f8ff;}#sk-container-id-103 input.sk-toggleable__control:checked~div.sk-toggleable__content {max-height: 200px;max-width: 100%;overflow: auto;}#sk-container-id-103 input.sk-toggleable__control:checked~label.sk-toggleable__label-arrow:before {content: \"▾\";}#sk-container-id-103 div.sk-estimator input.sk-toggleable__control:checked~label.sk-toggleable__label {background-color: #d4ebff;}#sk-container-id-103 div.sk-label input.sk-toggleable__control:checked~label.sk-toggleable__label {background-color: #d4ebff;}#sk-container-id-103 input.sk-hidden--visually {border: 0;clip: rect(1px 1px 1px 1px);clip: rect(1px, 1px, 1px, 1px);height: 1px;margin: -1px;overflow: hidden;padding: 0;position: absolute;width: 1px;}#sk-container-id-103 div.sk-estimator {font-family: monospace;background-color: #f0f8ff;border: 1px dotted black;border-radius: 0.25em;box-sizing: border-box;margin-bottom: 0.5em;}#sk-container-id-103 div.sk-estimator:hover {background-color: #d4ebff;}#sk-container-id-103 div.sk-parallel-item::after {content: \"\";width: 100%;border-bottom: 1px solid gray;flex-grow: 1;}#sk-container-id-103 div.sk-label:hover label.sk-toggleable__label {background-color: #d4ebff;}#sk-container-id-103 div.sk-serial::before {content: \"\";position: absolute;border-left: 1px solid gray;box-sizing: border-box;top: 0;bottom: 0;left: 50%;z-index: 0;}#sk-container-id-103 div.sk-serial {display: flex;flex-direction: column;align-items: center;background-color: white;padding-right: 0.2em;padding-left: 0.2em;position: relative;}#sk-container-id-103 div.sk-item {position: relative;z-index: 1;}#sk-container-id-103 div.sk-parallel {display: flex;align-items: stretch;justify-content: center;background-color: white;position: relative;}#sk-container-id-103 div.sk-item::before, #sk-container-id-103 div.sk-parallel-item::before {content: \"\";position: absolute;border-left: 1px solid gray;box-sizing: border-box;top: 0;bottom: 0;left: 50%;z-index: -1;}#sk-container-id-103 div.sk-parallel-item {display: flex;flex-direction: column;z-index: 1;position: relative;background-color: white;}#sk-container-id-103 div.sk-parallel-item:first-child::after {align-self: flex-end;width: 50%;}#sk-container-id-103 div.sk-parallel-item:last-child::after {align-self: flex-start;width: 50%;}#sk-container-id-103 div.sk-parallel-item:only-child::after {width: 0;}#sk-container-id-103 div.sk-dashed-wrapped {border: 1px dashed gray;margin: 0 0.4em 0.5em 0.4em;box-sizing: border-box;padding-bottom: 0.4em;background-color: white;}#sk-container-id-103 div.sk-label label {font-family: monospace;font-weight: bold;display: inline-block;line-height: 1.2em;}#sk-container-id-103 div.sk-label-container {text-align: center;}#sk-container-id-103 div.sk-container {/* jupyter's `normalize.less` sets `[hidden] { display: none; }` but bootstrap.min.css set `[hidden] { display: none !important; }` so we also need the `!important` here to be able to override the default hidden behavior on the sphinx rendered scikit-learn.org. See: https://github.com/scikit-learn/scikit-learn/issues/21755 */display: inline-block !important;position: relative;}#sk-container-id-103 div.sk-text-repr-fallback {display: none;}</style><div id=\"sk-container-id-103\" class=\"sk-top-container\"><div class=\"sk-text-repr-fallback\"><pre>DecisionTreeClassifier(class_weight=&#x27;balanced&#x27;, random_state=0)</pre><b>In a Jupyter environment, please rerun this cell to show the HTML representation or trust the notebook. <br />On GitHub, the HTML representation is unable to render, please try loading this page with nbviewer.org.</b></div><div class=\"sk-container\" hidden><div class=\"sk-item\"><div class=\"sk-estimator sk-toggleable\"><input class=\"sk-toggleable__control sk-hidden--visually\" id=\"sk-estimator-id-103\" type=\"checkbox\" checked><label for=\"sk-estimator-id-103\" class=\"sk-toggleable__label sk-toggleable__label-arrow\">DecisionTreeClassifier</label><div class=\"sk-toggleable__content\"><pre>DecisionTreeClassifier(class_weight=&#x27;balanced&#x27;, random_state=0)</pre></div></div></div></div></div>"
      ],
      "text/plain": [
       "DecisionTreeClassifier(class_weight='balanced', random_state=0)"
      ]
     },
     "execution_count": 789,
     "metadata": {},
     "output_type": "execute_result"
    }
   ],
   "source": [
    "tree_clf = DecisionTreeClassifier(random_state=0, class_weight='balanced')\n",
    "\n",
    "# Perform cross-validation\n",
    "cv_scores = cross_val_score(tree_clf, X_train, y_train.values.ravel(), cv=5)\n",
    "print(\"Cross-validation scores:\", cv_scores)\n",
    "\n",
    "tree_clf.fit(X_train, y_train)"
   ]
  },
  {
   "cell_type": "code",
   "execution_count": 790,
   "id": "0e33ff1b",
   "metadata": {},
   "outputs": [],
   "source": [
    "# Make predictions\n",
    "y_pred = tree_clf.predict(X_test)"
   ]
  },
  {
   "cell_type": "code",
   "execution_count": 791,
   "id": "aa653d7a",
   "metadata": {},
   "outputs": [
    {
     "name": "stdout",
     "output_type": "stream",
     "text": [
      "Accuracy: 0.5735294117647058\n",
      "Confusion Matrix:\n",
      " [[30 10]\n",
      " [19  9]]\n",
      "Precision: 0.47368421052631576\n",
      "Recall: 0.32142857142857145\n",
      "F1 Score: 0.3829787234042553\n"
     ]
    }
   ],
   "source": [
    "# Evaluate model performance\n",
    "accuracy = accuracy_score(y_test, y_pred)\n",
    "print(\"Accuracy:\", accuracy)\n",
    "\n",
    "# Generate a confusion matrix\n",
    "conf_matrix = confusion_matrix(y_test, y_pred)\n",
    "print(\"Confusion Matrix:\\n\", conf_matrix)\n",
    "\n",
    "# Calculate precision, recall, and F1 score\n",
    "precision = precision_score(y_test, y_pred)\n",
    "recall = recall_score(y_test, y_pred)\n",
    "f1 = f1_score(y_test, y_pred)\n",
    "\n",
    "# Print precision, recall, and F1 score\n",
    "print(\"Precision:\", precision)\n",
    "print(\"Recall:\", recall)\n",
    "print(\"F1 Score:\", f1)"
   ]
  },
  {
   "cell_type": "markdown",
   "id": "c4c45316",
   "metadata": {},
   "source": [
    "# Gradient Boosting Classifier"
   ]
  },
  {
   "cell_type": "code",
   "execution_count": 792,
   "id": "c9f667b8",
   "metadata": {},
   "outputs": [
    {
     "name": "stdout",
     "output_type": "stream",
     "text": [
      "Cross-validation scores: [0.65454545 0.61818182 0.68518519 0.72222222 0.75925926]\n"
     ]
    },
    {
     "name": "stderr",
     "output_type": "stream",
     "text": [
      "C:\\Users\\Thinithi\\anaconda3\\Lib\\site-packages\\sklearn\\ensemble\\_gb.py:424: DataConversionWarning: A column-vector y was passed when a 1d array was expected. Please change the shape of y to (n_samples, ), for example using ravel().\n",
      "  y = column_or_1d(y, warn=True)\n"
     ]
    },
    {
     "data": {
      "text/html": [
       "<style>#sk-container-id-104 {color: black;}#sk-container-id-104 pre{padding: 0;}#sk-container-id-104 div.sk-toggleable {background-color: white;}#sk-container-id-104 label.sk-toggleable__label {cursor: pointer;display: block;width: 100%;margin-bottom: 0;padding: 0.3em;box-sizing: border-box;text-align: center;}#sk-container-id-104 label.sk-toggleable__label-arrow:before {content: \"▸\";float: left;margin-right: 0.25em;color: #696969;}#sk-container-id-104 label.sk-toggleable__label-arrow:hover:before {color: black;}#sk-container-id-104 div.sk-estimator:hover label.sk-toggleable__label-arrow:before {color: black;}#sk-container-id-104 div.sk-toggleable__content {max-height: 0;max-width: 0;overflow: hidden;text-align: left;background-color: #f0f8ff;}#sk-container-id-104 div.sk-toggleable__content pre {margin: 0.2em;color: black;border-radius: 0.25em;background-color: #f0f8ff;}#sk-container-id-104 input.sk-toggleable__control:checked~div.sk-toggleable__content {max-height: 200px;max-width: 100%;overflow: auto;}#sk-container-id-104 input.sk-toggleable__control:checked~label.sk-toggleable__label-arrow:before {content: \"▾\";}#sk-container-id-104 div.sk-estimator input.sk-toggleable__control:checked~label.sk-toggleable__label {background-color: #d4ebff;}#sk-container-id-104 div.sk-label input.sk-toggleable__control:checked~label.sk-toggleable__label {background-color: #d4ebff;}#sk-container-id-104 input.sk-hidden--visually {border: 0;clip: rect(1px 1px 1px 1px);clip: rect(1px, 1px, 1px, 1px);height: 1px;margin: -1px;overflow: hidden;padding: 0;position: absolute;width: 1px;}#sk-container-id-104 div.sk-estimator {font-family: monospace;background-color: #f0f8ff;border: 1px dotted black;border-radius: 0.25em;box-sizing: border-box;margin-bottom: 0.5em;}#sk-container-id-104 div.sk-estimator:hover {background-color: #d4ebff;}#sk-container-id-104 div.sk-parallel-item::after {content: \"\";width: 100%;border-bottom: 1px solid gray;flex-grow: 1;}#sk-container-id-104 div.sk-label:hover label.sk-toggleable__label {background-color: #d4ebff;}#sk-container-id-104 div.sk-serial::before {content: \"\";position: absolute;border-left: 1px solid gray;box-sizing: border-box;top: 0;bottom: 0;left: 50%;z-index: 0;}#sk-container-id-104 div.sk-serial {display: flex;flex-direction: column;align-items: center;background-color: white;padding-right: 0.2em;padding-left: 0.2em;position: relative;}#sk-container-id-104 div.sk-item {position: relative;z-index: 1;}#sk-container-id-104 div.sk-parallel {display: flex;align-items: stretch;justify-content: center;background-color: white;position: relative;}#sk-container-id-104 div.sk-item::before, #sk-container-id-104 div.sk-parallel-item::before {content: \"\";position: absolute;border-left: 1px solid gray;box-sizing: border-box;top: 0;bottom: 0;left: 50%;z-index: -1;}#sk-container-id-104 div.sk-parallel-item {display: flex;flex-direction: column;z-index: 1;position: relative;background-color: white;}#sk-container-id-104 div.sk-parallel-item:first-child::after {align-self: flex-end;width: 50%;}#sk-container-id-104 div.sk-parallel-item:last-child::after {align-self: flex-start;width: 50%;}#sk-container-id-104 div.sk-parallel-item:only-child::after {width: 0;}#sk-container-id-104 div.sk-dashed-wrapped {border: 1px dashed gray;margin: 0 0.4em 0.5em 0.4em;box-sizing: border-box;padding-bottom: 0.4em;background-color: white;}#sk-container-id-104 div.sk-label label {font-family: monospace;font-weight: bold;display: inline-block;line-height: 1.2em;}#sk-container-id-104 div.sk-label-container {text-align: center;}#sk-container-id-104 div.sk-container {/* jupyter's `normalize.less` sets `[hidden] { display: none; }` but bootstrap.min.css set `[hidden] { display: none !important; }` so we also need the `!important` here to be able to override the default hidden behavior on the sphinx rendered scikit-learn.org. See: https://github.com/scikit-learn/scikit-learn/issues/21755 */display: inline-block !important;position: relative;}#sk-container-id-104 div.sk-text-repr-fallback {display: none;}</style><div id=\"sk-container-id-104\" class=\"sk-top-container\"><div class=\"sk-text-repr-fallback\"><pre>GradientBoostingClassifier(random_state=0)</pre><b>In a Jupyter environment, please rerun this cell to show the HTML representation or trust the notebook. <br />On GitHub, the HTML representation is unable to render, please try loading this page with nbviewer.org.</b></div><div class=\"sk-container\" hidden><div class=\"sk-item\"><div class=\"sk-estimator sk-toggleable\"><input class=\"sk-toggleable__control sk-hidden--visually\" id=\"sk-estimator-id-104\" type=\"checkbox\" checked><label for=\"sk-estimator-id-104\" class=\"sk-toggleable__label sk-toggleable__label-arrow\">GradientBoostingClassifier</label><div class=\"sk-toggleable__content\"><pre>GradientBoostingClassifier(random_state=0)</pre></div></div></div></div></div>"
      ],
      "text/plain": [
       "GradientBoostingClassifier(random_state=0)"
      ]
     },
     "execution_count": 792,
     "metadata": {},
     "output_type": "execute_result"
    }
   ],
   "source": [
    "from sklearn.ensemble import GradientBoostingClassifier\n",
    "\n",
    "gb_clf = GradientBoostingClassifier(random_state=0)\n",
    "\n",
    "# Perform cross-validation\n",
    "cv_scores = cross_val_score(gb_clf, X_train, y_train.values.ravel(), cv=5)\n",
    "print(\"Cross-validation scores:\", cv_scores)\n",
    "\n",
    "gb_clf.fit(X_train, y_train)"
   ]
  },
  {
   "cell_type": "code",
   "execution_count": null,
   "id": "0077c6f5",
   "metadata": {},
   "outputs": [],
   "source": [
    "# Make predictions\n",
    "y_pred = gb_clf.predict(X_test)"
   ]
  },
  {
   "cell_type": "code",
   "execution_count": 793,
   "id": "deaedf09",
   "metadata": {},
   "outputs": [
    {
     "name": "stdout",
     "output_type": "stream",
     "text": [
      "Accuracy: 0.5735294117647058\n",
      "Confusion Matrix:\n",
      " [[30 10]\n",
      " [19  9]]\n",
      "Precision: 0.47368421052631576\n",
      "Recall: 0.32142857142857145\n",
      "F1 Score: 0.3829787234042553\n"
     ]
    }
   ],
   "source": [
    "# Evaluate model performance\n",
    "accuracy = accuracy_score(y_test, y_pred)\n",
    "print(\"Accuracy:\", accuracy)\n",
    "\n",
    "# Generate a confusion matrix\n",
    "conf_matrix = confusion_matrix(y_test, y_pred)\n",
    "print(\"Confusion Matrix:\\n\", conf_matrix)\n",
    "\n",
    "# Calculate precision, recall, and F1 score\n",
    "precision = precision_score(y_test, y_pred)\n",
    "recall = recall_score(y_test, y_pred)\n",
    "f1 = f1_score(y_test, y_pred)\n",
    "\n",
    "# Print precision, recall, and F1 score\n",
    "print(\"Precision:\", precision)\n",
    "print(\"Recall:\", recall)\n",
    "print(\"F1 Score:\", f1)"
   ]
  },
  {
   "cell_type": "markdown",
   "id": "bad8b660",
   "metadata": {},
   "source": [
    "#  Support Vector Machine (SVM)"
   ]
  },
  {
   "cell_type": "code",
   "execution_count": 42,
   "id": "2369559c",
   "metadata": {},
   "outputs": [
    {
     "name": "stdout",
     "output_type": "stream",
     "text": [
      "Cross-validation scores: [0.69090909 0.58181818 0.7962963  0.62962963 0.62962963]\n"
     ]
    },
    {
     "name": "stderr",
     "output_type": "stream",
     "text": [
      "C:\\Users\\Thinithi\\anaconda3\\Lib\\site-packages\\sklearn\\utils\\validation.py:1184: DataConversionWarning: A column-vector y was passed when a 1d array was expected. Please change the shape of y to (n_samples, ), for example using ravel().\n",
      "  y = column_or_1d(y, warn=True)\n"
     ]
    },
    {
     "data": {
      "text/html": [
       "<style>#sk-container-id-3 {color: black;}#sk-container-id-3 pre{padding: 0;}#sk-container-id-3 div.sk-toggleable {background-color: white;}#sk-container-id-3 label.sk-toggleable__label {cursor: pointer;display: block;width: 100%;margin-bottom: 0;padding: 0.3em;box-sizing: border-box;text-align: center;}#sk-container-id-3 label.sk-toggleable__label-arrow:before {content: \"▸\";float: left;margin-right: 0.25em;color: #696969;}#sk-container-id-3 label.sk-toggleable__label-arrow:hover:before {color: black;}#sk-container-id-3 div.sk-estimator:hover label.sk-toggleable__label-arrow:before {color: black;}#sk-container-id-3 div.sk-toggleable__content {max-height: 0;max-width: 0;overflow: hidden;text-align: left;background-color: #f0f8ff;}#sk-container-id-3 div.sk-toggleable__content pre {margin: 0.2em;color: black;border-radius: 0.25em;background-color: #f0f8ff;}#sk-container-id-3 input.sk-toggleable__control:checked~div.sk-toggleable__content {max-height: 200px;max-width: 100%;overflow: auto;}#sk-container-id-3 input.sk-toggleable__control:checked~label.sk-toggleable__label-arrow:before {content: \"▾\";}#sk-container-id-3 div.sk-estimator input.sk-toggleable__control:checked~label.sk-toggleable__label {background-color: #d4ebff;}#sk-container-id-3 div.sk-label input.sk-toggleable__control:checked~label.sk-toggleable__label {background-color: #d4ebff;}#sk-container-id-3 input.sk-hidden--visually {border: 0;clip: rect(1px 1px 1px 1px);clip: rect(1px, 1px, 1px, 1px);height: 1px;margin: -1px;overflow: hidden;padding: 0;position: absolute;width: 1px;}#sk-container-id-3 div.sk-estimator {font-family: monospace;background-color: #f0f8ff;border: 1px dotted black;border-radius: 0.25em;box-sizing: border-box;margin-bottom: 0.5em;}#sk-container-id-3 div.sk-estimator:hover {background-color: #d4ebff;}#sk-container-id-3 div.sk-parallel-item::after {content: \"\";width: 100%;border-bottom: 1px solid gray;flex-grow: 1;}#sk-container-id-3 div.sk-label:hover label.sk-toggleable__label {background-color: #d4ebff;}#sk-container-id-3 div.sk-serial::before {content: \"\";position: absolute;border-left: 1px solid gray;box-sizing: border-box;top: 0;bottom: 0;left: 50%;z-index: 0;}#sk-container-id-3 div.sk-serial {display: flex;flex-direction: column;align-items: center;background-color: white;padding-right: 0.2em;padding-left: 0.2em;position: relative;}#sk-container-id-3 div.sk-item {position: relative;z-index: 1;}#sk-container-id-3 div.sk-parallel {display: flex;align-items: stretch;justify-content: center;background-color: white;position: relative;}#sk-container-id-3 div.sk-item::before, #sk-container-id-3 div.sk-parallel-item::before {content: \"\";position: absolute;border-left: 1px solid gray;box-sizing: border-box;top: 0;bottom: 0;left: 50%;z-index: -1;}#sk-container-id-3 div.sk-parallel-item {display: flex;flex-direction: column;z-index: 1;position: relative;background-color: white;}#sk-container-id-3 div.sk-parallel-item:first-child::after {align-self: flex-end;width: 50%;}#sk-container-id-3 div.sk-parallel-item:last-child::after {align-self: flex-start;width: 50%;}#sk-container-id-3 div.sk-parallel-item:only-child::after {width: 0;}#sk-container-id-3 div.sk-dashed-wrapped {border: 1px dashed gray;margin: 0 0.4em 0.5em 0.4em;box-sizing: border-box;padding-bottom: 0.4em;background-color: white;}#sk-container-id-3 div.sk-label label {font-family: monospace;font-weight: bold;display: inline-block;line-height: 1.2em;}#sk-container-id-3 div.sk-label-container {text-align: center;}#sk-container-id-3 div.sk-container {/* jupyter's `normalize.less` sets `[hidden] { display: none; }` but bootstrap.min.css set `[hidden] { display: none !important; }` so we also need the `!important` here to be able to override the default hidden behavior on the sphinx rendered scikit-learn.org. See: https://github.com/scikit-learn/scikit-learn/issues/21755 */display: inline-block !important;position: relative;}#sk-container-id-3 div.sk-text-repr-fallback {display: none;}</style><div id=\"sk-container-id-3\" class=\"sk-top-container\"><div class=\"sk-text-repr-fallback\"><pre>SVC(class_weight=&#x27;balanced&#x27;, probability=True, random_state=0)</pre><b>In a Jupyter environment, please rerun this cell to show the HTML representation or trust the notebook. <br />On GitHub, the HTML representation is unable to render, please try loading this page with nbviewer.org.</b></div><div class=\"sk-container\" hidden><div class=\"sk-item\"><div class=\"sk-estimator sk-toggleable\"><input class=\"sk-toggleable__control sk-hidden--visually\" id=\"sk-estimator-id-3\" type=\"checkbox\" checked><label for=\"sk-estimator-id-3\" class=\"sk-toggleable__label sk-toggleable__label-arrow\">SVC</label><div class=\"sk-toggleable__content\"><pre>SVC(class_weight=&#x27;balanced&#x27;, probability=True, random_state=0)</pre></div></div></div></div></div>"
      ],
      "text/plain": [
       "SVC(class_weight='balanced', probability=True, random_state=0)"
      ]
     },
     "execution_count": 42,
     "metadata": {},
     "output_type": "execute_result"
    }
   ],
   "source": [
    "svc_clf = SVC(random_state=0, class_weight='balanced', probability=True)\n",
    "\n",
    "# Perform cross-validation\n",
    "cv_scores = cross_val_score(svc_clf, X_train, y_train.values.ravel(), cv=5)\n",
    "print(\"Cross-validation scores:\", cv_scores)\n",
    "\n",
    "svc_clf.fit(X_train, y_train)"
   ]
  },
  {
   "cell_type": "code",
   "execution_count": 43,
   "id": "f41a4dbb",
   "metadata": {},
   "outputs": [
    {
     "data": {
      "text/html": [
       "<div>\n",
       "<style scoped>\n",
       "    .dataframe tbody tr th:only-of-type {\n",
       "        vertical-align: middle;\n",
       "    }\n",
       "\n",
       "    .dataframe tbody tr th {\n",
       "        vertical-align: top;\n",
       "    }\n",
       "\n",
       "    .dataframe thead th {\n",
       "        text-align: right;\n",
       "    }\n",
       "</style>\n",
       "<table border=\"1\" class=\"dataframe\">\n",
       "  <thead>\n",
       "    <tr style=\"text-align: right;\">\n",
       "      <th></th>\n",
       "      <th>Station_Region</th>\n",
       "      <th>Temps_Min</th>\n",
       "      <th>Temps_Max</th>\n",
       "      <th>Rain</th>\n",
       "      <th>AM9_RH</th>\n",
       "      <th>AM9_Spd</th>\n",
       "      <th>PM3_RH</th>\n",
       "    </tr>\n",
       "  </thead>\n",
       "  <tbody>\n",
       "    <tr>\n",
       "      <th>11223</th>\n",
       "      <td>6</td>\n",
       "      <td>14.5</td>\n",
       "      <td>18.5</td>\n",
       "      <td>0.4</td>\n",
       "      <td>62</td>\n",
       "      <td>28.0</td>\n",
       "      <td>83</td>\n",
       "    </tr>\n",
       "    <tr>\n",
       "      <th>2818</th>\n",
       "      <td>9</td>\n",
       "      <td>10.7</td>\n",
       "      <td>32.1</td>\n",
       "      <td>0.0</td>\n",
       "      <td>50</td>\n",
       "      <td>4.0</td>\n",
       "      <td>19</td>\n",
       "    </tr>\n",
       "    <tr>\n",
       "      <th>9194</th>\n",
       "      <td>4</td>\n",
       "      <td>18.0</td>\n",
       "      <td>22.6</td>\n",
       "      <td>0.0</td>\n",
       "      <td>37</td>\n",
       "      <td>24.0</td>\n",
       "      <td>37</td>\n",
       "    </tr>\n",
       "    <tr>\n",
       "      <th>13072</th>\n",
       "      <td>7</td>\n",
       "      <td>16.5</td>\n",
       "      <td>21.6</td>\n",
       "      <td>0.0</td>\n",
       "      <td>48</td>\n",
       "      <td>35.0</td>\n",
       "      <td>20</td>\n",
       "    </tr>\n",
       "    <tr>\n",
       "      <th>6862</th>\n",
       "      <td>8</td>\n",
       "      <td>8.4</td>\n",
       "      <td>27.5</td>\n",
       "      <td>0.0</td>\n",
       "      <td>58</td>\n",
       "      <td>9.0</td>\n",
       "      <td>26</td>\n",
       "    </tr>\n",
       "    <tr>\n",
       "      <th>3506</th>\n",
       "      <td>10</td>\n",
       "      <td>14.9</td>\n",
       "      <td>31.8</td>\n",
       "      <td>0.0</td>\n",
       "      <td>66</td>\n",
       "      <td>11.0</td>\n",
       "      <td>34</td>\n",
       "    </tr>\n",
       "    <tr>\n",
       "      <th>18317</th>\n",
       "      <td>5</td>\n",
       "      <td>18.0</td>\n",
       "      <td>30.6</td>\n",
       "      <td>0.0</td>\n",
       "      <td>48</td>\n",
       "      <td>7.0</td>\n",
       "      <td>29</td>\n",
       "    </tr>\n",
       "    <tr>\n",
       "      <th>17250</th>\n",
       "      <td>0</td>\n",
       "      <td>7.8</td>\n",
       "      <td>23.7</td>\n",
       "      <td>0.0</td>\n",
       "      <td>80</td>\n",
       "      <td>1032.1</td>\n",
       "      <td>2</td>\n",
       "    </tr>\n",
       "    <tr>\n",
       "      <th>10468</th>\n",
       "      <td>6</td>\n",
       "      <td>-1.3</td>\n",
       "      <td>7.3</td>\n",
       "      <td>14.6</td>\n",
       "      <td>100</td>\n",
       "      <td>20.0</td>\n",
       "      <td>83</td>\n",
       "    </tr>\n",
       "    <tr>\n",
       "      <th>19275</th>\n",
       "      <td>5</td>\n",
       "      <td>9.2</td>\n",
       "      <td>20.7</td>\n",
       "      <td>0.2</td>\n",
       "      <td>61</td>\n",
       "      <td>6.0</td>\n",
       "      <td>61</td>\n",
       "    </tr>\n",
       "  </tbody>\n",
       "</table>\n",
       "</div>"
      ],
      "text/plain": [
       "       Station_Region  Temps_Min  Temps_Max  Rain  AM9_RH  AM9_Spd  PM3_RH\n",
       "11223               6       14.5       18.5   0.4      62     28.0      83\n",
       "2818                9       10.7       32.1   0.0      50      4.0      19\n",
       "9194                4       18.0       22.6   0.0      37     24.0      37\n",
       "13072               7       16.5       21.6   0.0      48     35.0      20\n",
       "6862                8        8.4       27.5   0.0      58      9.0      26\n",
       "3506               10       14.9       31.8   0.0      66     11.0      34\n",
       "18317               5       18.0       30.6   0.0      48      7.0      29\n",
       "17250               0        7.8       23.7   0.0      80   1032.1       2\n",
       "10468               6       -1.3        7.3  14.6     100     20.0      83\n",
       "19275               5        9.2       20.7   0.2      61      6.0      61"
      ]
     },
     "execution_count": 43,
     "metadata": {},
     "output_type": "execute_result"
    }
   ],
   "source": [
    "X_train.head(10)"
   ]
  },
  {
   "cell_type": "code",
   "execution_count": 44,
   "id": "6ce5a514",
   "metadata": {},
   "outputs": [],
   "source": [
    "# Make predictions\n",
    "y_pred = svc_clf.predict(X_test)"
   ]
  },
  {
   "cell_type": "code",
   "execution_count": 45,
   "id": "bd8bbc7d",
   "metadata": {},
   "outputs": [
    {
     "name": "stdout",
     "output_type": "stream",
     "text": [
      "Accuracy: 0.6764705882352942\n",
      "Confusion Matrix:\n",
      " [[23 17]\n",
      " [ 5 23]]\n",
      "Precision: 0.575\n",
      "Recall: 0.8214285714285714\n",
      "F1 Score: 0.676470588235294\n"
     ]
    }
   ],
   "source": [
    "# Evaluate model performance\n",
    "accuracy = accuracy_score(y_test, y_pred)\n",
    "print(\"Accuracy:\", accuracy)\n",
    "\n",
    "# Generate a confusion matrix\n",
    "conf_matrix = confusion_matrix(y_test, y_pred)\n",
    "print(\"Confusion Matrix:\\n\", conf_matrix)\n",
    "\n",
    "# Calculate precision, recall, and F1 score\n",
    "precision = precision_score(y_test, y_pred)\n",
    "recall = recall_score(y_test, y_pred)\n",
    "f1 = f1_score(y_test, y_pred)\n",
    "\n",
    "# Print precision, recall, and F1 score\n",
    "print(\"Precision:\", precision)\n",
    "print(\"Recall:\", recall)\n",
    "print(\"F1 Score:\", f1)"
   ]
  },
  {
   "cell_type": "code",
   "execution_count": 46,
   "id": "1613ba7f",
   "metadata": {},
   "outputs": [
    {
     "name": "stdout",
     "output_type": "stream",
     "text": [
      "Model parameters: {'C': 1.0, 'break_ties': False, 'cache_size': 200, 'class_weight': 'balanced', 'coef0': 0.0, 'decision_function_shape': 'ovr', 'degree': 3, 'gamma': 'scale', 'kernel': 'rbf', 'max_iter': -1, 'probability': True, 'random_state': 0, 'shrinking': True, 'tol': 0.001, 'verbose': False}\n"
     ]
    }
   ],
   "source": [
    "# Get model parameters\n",
    "model_params = svc_clf.get_params()\n",
    "print(\"Model parameters:\", model_params)"
   ]
  },
  {
   "cell_type": "markdown",
   "id": "9421d1db",
   "metadata": {},
   "source": [
    "#  k-Nearest Neighbors (k-NN)"
   ]
  },
  {
   "cell_type": "code",
   "execution_count": 797,
   "id": "abb07009",
   "metadata": {},
   "outputs": [
    {
     "name": "stdout",
     "output_type": "stream",
     "text": [
      "Cross-validation scores: [0.63636364 0.6        0.68518519 0.68518519 0.72222222]\n"
     ]
    },
    {
     "name": "stderr",
     "output_type": "stream",
     "text": [
      "C:\\Users\\Thinithi\\anaconda3\\Lib\\site-packages\\sklearn\\neighbors\\_classification.py:228: DataConversionWarning: A column-vector y was passed when a 1d array was expected. Please change the shape of y to (n_samples,), for example using ravel().\n",
      "  return self._fit(X, y)\n"
     ]
    },
    {
     "data": {
      "text/html": [
       "<style>#sk-container-id-106 {color: black;}#sk-container-id-106 pre{padding: 0;}#sk-container-id-106 div.sk-toggleable {background-color: white;}#sk-container-id-106 label.sk-toggleable__label {cursor: pointer;display: block;width: 100%;margin-bottom: 0;padding: 0.3em;box-sizing: border-box;text-align: center;}#sk-container-id-106 label.sk-toggleable__label-arrow:before {content: \"▸\";float: left;margin-right: 0.25em;color: #696969;}#sk-container-id-106 label.sk-toggleable__label-arrow:hover:before {color: black;}#sk-container-id-106 div.sk-estimator:hover label.sk-toggleable__label-arrow:before {color: black;}#sk-container-id-106 div.sk-toggleable__content {max-height: 0;max-width: 0;overflow: hidden;text-align: left;background-color: #f0f8ff;}#sk-container-id-106 div.sk-toggleable__content pre {margin: 0.2em;color: black;border-radius: 0.25em;background-color: #f0f8ff;}#sk-container-id-106 input.sk-toggleable__control:checked~div.sk-toggleable__content {max-height: 200px;max-width: 100%;overflow: auto;}#sk-container-id-106 input.sk-toggleable__control:checked~label.sk-toggleable__label-arrow:before {content: \"▾\";}#sk-container-id-106 div.sk-estimator input.sk-toggleable__control:checked~label.sk-toggleable__label {background-color: #d4ebff;}#sk-container-id-106 div.sk-label input.sk-toggleable__control:checked~label.sk-toggleable__label {background-color: #d4ebff;}#sk-container-id-106 input.sk-hidden--visually {border: 0;clip: rect(1px 1px 1px 1px);clip: rect(1px, 1px, 1px, 1px);height: 1px;margin: -1px;overflow: hidden;padding: 0;position: absolute;width: 1px;}#sk-container-id-106 div.sk-estimator {font-family: monospace;background-color: #f0f8ff;border: 1px dotted black;border-radius: 0.25em;box-sizing: border-box;margin-bottom: 0.5em;}#sk-container-id-106 div.sk-estimator:hover {background-color: #d4ebff;}#sk-container-id-106 div.sk-parallel-item::after {content: \"\";width: 100%;border-bottom: 1px solid gray;flex-grow: 1;}#sk-container-id-106 div.sk-label:hover label.sk-toggleable__label {background-color: #d4ebff;}#sk-container-id-106 div.sk-serial::before {content: \"\";position: absolute;border-left: 1px solid gray;box-sizing: border-box;top: 0;bottom: 0;left: 50%;z-index: 0;}#sk-container-id-106 div.sk-serial {display: flex;flex-direction: column;align-items: center;background-color: white;padding-right: 0.2em;padding-left: 0.2em;position: relative;}#sk-container-id-106 div.sk-item {position: relative;z-index: 1;}#sk-container-id-106 div.sk-parallel {display: flex;align-items: stretch;justify-content: center;background-color: white;position: relative;}#sk-container-id-106 div.sk-item::before, #sk-container-id-106 div.sk-parallel-item::before {content: \"\";position: absolute;border-left: 1px solid gray;box-sizing: border-box;top: 0;bottom: 0;left: 50%;z-index: -1;}#sk-container-id-106 div.sk-parallel-item {display: flex;flex-direction: column;z-index: 1;position: relative;background-color: white;}#sk-container-id-106 div.sk-parallel-item:first-child::after {align-self: flex-end;width: 50%;}#sk-container-id-106 div.sk-parallel-item:last-child::after {align-self: flex-start;width: 50%;}#sk-container-id-106 div.sk-parallel-item:only-child::after {width: 0;}#sk-container-id-106 div.sk-dashed-wrapped {border: 1px dashed gray;margin: 0 0.4em 0.5em 0.4em;box-sizing: border-box;padding-bottom: 0.4em;background-color: white;}#sk-container-id-106 div.sk-label label {font-family: monospace;font-weight: bold;display: inline-block;line-height: 1.2em;}#sk-container-id-106 div.sk-label-container {text-align: center;}#sk-container-id-106 div.sk-container {/* jupyter's `normalize.less` sets `[hidden] { display: none; }` but bootstrap.min.css set `[hidden] { display: none !important; }` so we also need the `!important` here to be able to override the default hidden behavior on the sphinx rendered scikit-learn.org. See: https://github.com/scikit-learn/scikit-learn/issues/21755 */display: inline-block !important;position: relative;}#sk-container-id-106 div.sk-text-repr-fallback {display: none;}</style><div id=\"sk-container-id-106\" class=\"sk-top-container\"><div class=\"sk-text-repr-fallback\"><pre>KNeighborsClassifier()</pre><b>In a Jupyter environment, please rerun this cell to show the HTML representation or trust the notebook. <br />On GitHub, the HTML representation is unable to render, please try loading this page with nbviewer.org.</b></div><div class=\"sk-container\" hidden><div class=\"sk-item\"><div class=\"sk-estimator sk-toggleable\"><input class=\"sk-toggleable__control sk-hidden--visually\" id=\"sk-estimator-id-106\" type=\"checkbox\" checked><label for=\"sk-estimator-id-106\" class=\"sk-toggleable__label sk-toggleable__label-arrow\">KNeighborsClassifier</label><div class=\"sk-toggleable__content\"><pre>KNeighborsClassifier()</pre></div></div></div></div></div>"
      ],
      "text/plain": [
       "KNeighborsClassifier()"
      ]
     },
     "execution_count": 797,
     "metadata": {},
     "output_type": "execute_result"
    }
   ],
   "source": [
    "knn_clf = KNeighborsClassifier()\n",
    "\n",
    "# Perform cross-validation\n",
    "cv_scores = cross_val_score(knn_clf, X_train, y_train.values.ravel(), cv=5)\n",
    "print(\"Cross-validation scores:\", cv_scores)\n",
    "\n",
    "knn_clf.fit(X_train, y_train)"
   ]
  },
  {
   "cell_type": "code",
   "execution_count": 798,
   "id": "27fe65a9",
   "metadata": {},
   "outputs": [],
   "source": [
    "# Make predictions\n",
    "y_pred = knn_clf.predict(X_test)"
   ]
  },
  {
   "cell_type": "code",
   "execution_count": 799,
   "id": "1e8904c6",
   "metadata": {},
   "outputs": [
    {
     "name": "stdout",
     "output_type": "stream",
     "text": [
      "Accuracy: 0.6029411764705882\n",
      "Confusion Matrix:\n",
      " [[30 10]\n",
      " [17 11]]\n",
      "Precision: 0.5238095238095238\n",
      "Recall: 0.39285714285714285\n",
      "F1 Score: 0.4489795918367347\n"
     ]
    }
   ],
   "source": [
    "# Evaluate model performance\n",
    "accuracy = accuracy_score(y_test, y_pred)\n",
    "print(\"Accuracy:\", accuracy)\n",
    "\n",
    "# Generate a confusion matrix\n",
    "conf_matrix = confusion_matrix(y_test, y_pred)\n",
    "print(\"Confusion Matrix:\\n\", conf_matrix)\n",
    "\n",
    "# Calculate precision, recall, and F1 score\n",
    "precision = precision_score(y_test, y_pred)\n",
    "recall = recall_score(y_test, y_pred)\n",
    "f1 = f1_score(y_test, y_pred)\n",
    "\n",
    "# Print precision, recall, and F1 score\n",
    "print(\"Precision:\", precision)\n",
    "print(\"Recall:\", recall)\n",
    "print(\"F1 Score:\", f1)"
   ]
  },
  {
   "cell_type": "markdown",
   "id": "2f06cc95",
   "metadata": {},
   "source": [
    "# Naive Bayes"
   ]
  },
  {
   "cell_type": "code",
   "execution_count": 800,
   "id": "3b33f168",
   "metadata": {},
   "outputs": [
    {
     "name": "stdout",
     "output_type": "stream",
     "text": [
      "Cross-validation scores: [0.63636364 0.61818182 0.75925926 0.59259259 0.57407407]\n"
     ]
    },
    {
     "name": "stderr",
     "output_type": "stream",
     "text": [
      "C:\\Users\\Thinithi\\anaconda3\\Lib\\site-packages\\sklearn\\utils\\validation.py:1184: DataConversionWarning: A column-vector y was passed when a 1d array was expected. Please change the shape of y to (n_samples, ), for example using ravel().\n",
      "  y = column_or_1d(y, warn=True)\n"
     ]
    },
    {
     "data": {
      "text/html": [
       "<style>#sk-container-id-107 {color: black;}#sk-container-id-107 pre{padding: 0;}#sk-container-id-107 div.sk-toggleable {background-color: white;}#sk-container-id-107 label.sk-toggleable__label {cursor: pointer;display: block;width: 100%;margin-bottom: 0;padding: 0.3em;box-sizing: border-box;text-align: center;}#sk-container-id-107 label.sk-toggleable__label-arrow:before {content: \"▸\";float: left;margin-right: 0.25em;color: #696969;}#sk-container-id-107 label.sk-toggleable__label-arrow:hover:before {color: black;}#sk-container-id-107 div.sk-estimator:hover label.sk-toggleable__label-arrow:before {color: black;}#sk-container-id-107 div.sk-toggleable__content {max-height: 0;max-width: 0;overflow: hidden;text-align: left;background-color: #f0f8ff;}#sk-container-id-107 div.sk-toggleable__content pre {margin: 0.2em;color: black;border-radius: 0.25em;background-color: #f0f8ff;}#sk-container-id-107 input.sk-toggleable__control:checked~div.sk-toggleable__content {max-height: 200px;max-width: 100%;overflow: auto;}#sk-container-id-107 input.sk-toggleable__control:checked~label.sk-toggleable__label-arrow:before {content: \"▾\";}#sk-container-id-107 div.sk-estimator input.sk-toggleable__control:checked~label.sk-toggleable__label {background-color: #d4ebff;}#sk-container-id-107 div.sk-label input.sk-toggleable__control:checked~label.sk-toggleable__label {background-color: #d4ebff;}#sk-container-id-107 input.sk-hidden--visually {border: 0;clip: rect(1px 1px 1px 1px);clip: rect(1px, 1px, 1px, 1px);height: 1px;margin: -1px;overflow: hidden;padding: 0;position: absolute;width: 1px;}#sk-container-id-107 div.sk-estimator {font-family: monospace;background-color: #f0f8ff;border: 1px dotted black;border-radius: 0.25em;box-sizing: border-box;margin-bottom: 0.5em;}#sk-container-id-107 div.sk-estimator:hover {background-color: #d4ebff;}#sk-container-id-107 div.sk-parallel-item::after {content: \"\";width: 100%;border-bottom: 1px solid gray;flex-grow: 1;}#sk-container-id-107 div.sk-label:hover label.sk-toggleable__label {background-color: #d4ebff;}#sk-container-id-107 div.sk-serial::before {content: \"\";position: absolute;border-left: 1px solid gray;box-sizing: border-box;top: 0;bottom: 0;left: 50%;z-index: 0;}#sk-container-id-107 div.sk-serial {display: flex;flex-direction: column;align-items: center;background-color: white;padding-right: 0.2em;padding-left: 0.2em;position: relative;}#sk-container-id-107 div.sk-item {position: relative;z-index: 1;}#sk-container-id-107 div.sk-parallel {display: flex;align-items: stretch;justify-content: center;background-color: white;position: relative;}#sk-container-id-107 div.sk-item::before, #sk-container-id-107 div.sk-parallel-item::before {content: \"\";position: absolute;border-left: 1px solid gray;box-sizing: border-box;top: 0;bottom: 0;left: 50%;z-index: -1;}#sk-container-id-107 div.sk-parallel-item {display: flex;flex-direction: column;z-index: 1;position: relative;background-color: white;}#sk-container-id-107 div.sk-parallel-item:first-child::after {align-self: flex-end;width: 50%;}#sk-container-id-107 div.sk-parallel-item:last-child::after {align-self: flex-start;width: 50%;}#sk-container-id-107 div.sk-parallel-item:only-child::after {width: 0;}#sk-container-id-107 div.sk-dashed-wrapped {border: 1px dashed gray;margin: 0 0.4em 0.5em 0.4em;box-sizing: border-box;padding-bottom: 0.4em;background-color: white;}#sk-container-id-107 div.sk-label label {font-family: monospace;font-weight: bold;display: inline-block;line-height: 1.2em;}#sk-container-id-107 div.sk-label-container {text-align: center;}#sk-container-id-107 div.sk-container {/* jupyter's `normalize.less` sets `[hidden] { display: none; }` but bootstrap.min.css set `[hidden] { display: none !important; }` so we also need the `!important` here to be able to override the default hidden behavior on the sphinx rendered scikit-learn.org. See: https://github.com/scikit-learn/scikit-learn/issues/21755 */display: inline-block !important;position: relative;}#sk-container-id-107 div.sk-text-repr-fallback {display: none;}</style><div id=\"sk-container-id-107\" class=\"sk-top-container\"><div class=\"sk-text-repr-fallback\"><pre>GaussianNB()</pre><b>In a Jupyter environment, please rerun this cell to show the HTML representation or trust the notebook. <br />On GitHub, the HTML representation is unable to render, please try loading this page with nbviewer.org.</b></div><div class=\"sk-container\" hidden><div class=\"sk-item\"><div class=\"sk-estimator sk-toggleable\"><input class=\"sk-toggleable__control sk-hidden--visually\" id=\"sk-estimator-id-107\" type=\"checkbox\" checked><label for=\"sk-estimator-id-107\" class=\"sk-toggleable__label sk-toggleable__label-arrow\">GaussianNB</label><div class=\"sk-toggleable__content\"><pre>GaussianNB()</pre></div></div></div></div></div>"
      ],
      "text/plain": [
       "GaussianNB()"
      ]
     },
     "execution_count": 800,
     "metadata": {},
     "output_type": "execute_result"
    }
   ],
   "source": [
    "nb_clf = GaussianNB()\n",
    "\n",
    "# Perform cross-validation\n",
    "cv_scores = cross_val_score(nb_clf, X_train, y_train.values.ravel(), cv=5)\n",
    "print(\"Cross-validation scores:\", cv_scores)\n",
    "\n",
    "nb_clf.fit(X_train, y_train)"
   ]
  },
  {
   "cell_type": "code",
   "execution_count": 801,
   "id": "09c750b8",
   "metadata": {},
   "outputs": [],
   "source": [
    "# Make predictions\n",
    "y_pred = nb_clf.predict(X_test)"
   ]
  },
  {
   "cell_type": "code",
   "execution_count": 802,
   "id": "03ed4c25",
   "metadata": {},
   "outputs": [
    {
     "name": "stdout",
     "output_type": "stream",
     "text": [
      "Accuracy: 0.6470588235294118\n",
      "Confusion Matrix:\n",
      " [[22 18]\n",
      " [ 6 22]]\n",
      "Precision: 0.55\n",
      "Recall: 0.7857142857142857\n",
      "F1 Score: 0.6470588235294117\n"
     ]
    }
   ],
   "source": [
    "# Evaluate model performance\n",
    "accuracy = accuracy_score(y_test, y_pred)\n",
    "print(\"Accuracy:\", accuracy)\n",
    "\n",
    "# Generate a confusion matrix\n",
    "conf_matrix = confusion_matrix(y_test, y_pred)\n",
    "print(\"Confusion Matrix:\\n\", conf_matrix)\n",
    "\n",
    "# Calculate precision, recall, and F1 score\n",
    "precision = precision_score(y_test, y_pred)\n",
    "recall = recall_score(y_test, y_pred)\n",
    "f1 = f1_score(y_test, y_pred)\n",
    "\n",
    "# Print precision, recall, and F1 score\n",
    "print(\"Precision:\", precision)\n",
    "print(\"Recall:\", recall)\n",
    "print(\"F1 Score:\", f1)"
   ]
  },
  {
   "cell_type": "markdown",
   "id": "5e17d81d",
   "metadata": {},
   "source": [
    "# Neural Network"
   ]
  },
  {
   "cell_type": "code",
   "execution_count": 803,
   "id": "b889a896",
   "metadata": {},
   "outputs": [],
   "source": [
    "! "
   ]
  },
  {
   "cell_type": "code",
   "execution_count": 804,
   "id": "6ac06ebf",
   "metadata": {},
   "outputs": [],
   "source": [
    "# Import necessary libraries\n",
    "import numpy as np\n",
    "from tensorflow.keras.models import Sequential\n",
    "from tensorflow.keras.layers import LSTM, Dense, Dropout\n",
    "from sklearn.metrics import accuracy_score"
   ]
  },
  {
   "cell_type": "code",
   "execution_count": 805,
   "id": "a42021c0",
   "metadata": {},
   "outputs": [],
   "source": [
    "# Reshape input for RNN (samples, time_steps, features)\n",
    "# Assuming time_steps = 1 for non-sequential data, you can adjust if your data is sequential\n",
    "X_train_rnn = X_train_scaled.reshape(X_train_scaled.shape[0], 1, X_train_scaled.shape[1])\n",
    "X_test_rnn = X_test_scaled.reshape(X_test_scaled.shape[0], 1, X_test_scaled.shape[1])"
   ]
  },
  {
   "cell_type": "code",
   "execution_count": 806,
   "id": "7a580544",
   "metadata": {},
   "outputs": [],
   "source": [
    "# Build the RNN model\n",
    "model = Sequential()"
   ]
  },
  {
   "cell_type": "code",
   "execution_count": 807,
   "id": "5f55ec93",
   "metadata": {},
   "outputs": [
    {
     "name": "stderr",
     "output_type": "stream",
     "text": [
      "C:\\Users\\Thinithi\\anaconda3\\Lib\\site-packages\\keras\\src\\layers\\rnn\\rnn.py:204: UserWarning: Do not pass an `input_shape`/`input_dim` argument to a layer. When using Sequential models, prefer using an `Input(shape)` object as the first layer in the model instead.\n",
      "  super().__init__(**kwargs)\n"
     ]
    }
   ],
   "source": [
    "# Add LSTM layer\n",
    "model.add(LSTM(50, activation='relu', input_shape=(X_train_rnn.shape[1], X_train_rnn.shape[2])))"
   ]
  },
  {
   "cell_type": "code",
   "execution_count": 808,
   "id": "acfa6d95",
   "metadata": {},
   "outputs": [],
   "source": [
    "# Add a dropout layer to prevent overfitting\n",
    "model.add(Dropout(0.2))"
   ]
  },
  {
   "cell_type": "code",
   "execution_count": 809,
   "id": "770342cd",
   "metadata": {},
   "outputs": [],
   "source": [
    "# Output layer for binary classification\n",
    "model.add(Dense(1, activation='sigmoid'))"
   ]
  },
  {
   "cell_type": "code",
   "execution_count": 810,
   "id": "3d1b6c16",
   "metadata": {},
   "outputs": [],
   "source": [
    "# Compile the model with optimizer, loss function, and evaluation metric\n",
    "model.compile(optimizer='adam', loss='binary_crossentropy', metrics=['accuracy'])"
   ]
  },
  {
   "cell_type": "code",
   "execution_count": 811,
   "id": "eb7e50bc",
   "metadata": {},
   "outputs": [
    {
     "name": "stdout",
     "output_type": "stream",
     "text": [
      "Epoch 1/50\n",
      "\u001b[1m8/8\u001b[0m \u001b[32m━━━━━━━━━━━━━━━━━━━━\u001b[0m\u001b[37m\u001b[0m \u001b[1m2s\u001b[0m 35ms/step - accuracy: 0.5214 - loss: 0.6869 - val_accuracy: 0.6429 - val_loss: 0.6811\n",
      "Epoch 2/50\n",
      "\u001b[1m8/8\u001b[0m \u001b[32m━━━━━━━━━━━━━━━━━━━━\u001b[0m\u001b[37m\u001b[0m \u001b[1m0s\u001b[0m 6ms/step - accuracy: 0.6366 - loss: 0.6773 - val_accuracy: 0.7500 - val_loss: 0.6724\n",
      "Epoch 3/50\n",
      "\u001b[1m8/8\u001b[0m \u001b[32m━━━━━━━━━━━━━━━━━━━━\u001b[0m\u001b[37m\u001b[0m \u001b[1m0s\u001b[0m 8ms/step - accuracy: 0.6752 - loss: 0.6676 - val_accuracy: 0.6786 - val_loss: 0.6638\n",
      "Epoch 4/50\n",
      "\u001b[1m8/8\u001b[0m \u001b[32m━━━━━━━━━━━━━━━━━━━━\u001b[0m\u001b[37m\u001b[0m \u001b[1m0s\u001b[0m 7ms/step - accuracy: 0.6333 - loss: 0.6686 - val_accuracy: 0.6786 - val_loss: 0.6557\n",
      "Epoch 5/50\n",
      "\u001b[1m8/8\u001b[0m \u001b[32m━━━━━━━━━━━━━━━━━━━━\u001b[0m\u001b[37m\u001b[0m \u001b[1m0s\u001b[0m 6ms/step - accuracy: 0.6919 - loss: 0.6541 - val_accuracy: 0.6786 - val_loss: 0.6478\n",
      "Epoch 6/50\n",
      "\u001b[1m8/8\u001b[0m \u001b[32m━━━━━━━━━━━━━━━━━━━━\u001b[0m\u001b[37m\u001b[0m \u001b[1m0s\u001b[0m 7ms/step - accuracy: 0.7223 - loss: 0.6364 - val_accuracy: 0.6786 - val_loss: 0.6399\n",
      "Epoch 7/50\n",
      "\u001b[1m8/8\u001b[0m \u001b[32m━━━━━━━━━━━━━━━━━━━━\u001b[0m\u001b[37m\u001b[0m \u001b[1m0s\u001b[0m 6ms/step - accuracy: 0.6617 - loss: 0.6414 - val_accuracy: 0.6786 - val_loss: 0.6323\n",
      "Epoch 8/50\n",
      "\u001b[1m8/8\u001b[0m \u001b[32m━━━━━━━━━━━━━━━━━━━━\u001b[0m\u001b[37m\u001b[0m \u001b[1m0s\u001b[0m 6ms/step - accuracy: 0.6756 - loss: 0.6261 - val_accuracy: 0.6786 - val_loss: 0.6238\n",
      "Epoch 9/50\n",
      "\u001b[1m8/8\u001b[0m \u001b[32m━━━━━━━━━━━━━━━━━━━━\u001b[0m\u001b[37m\u001b[0m \u001b[1m0s\u001b[0m 6ms/step - accuracy: 0.6937 - loss: 0.6212 - val_accuracy: 0.6786 - val_loss: 0.6148\n",
      "Epoch 10/50\n",
      "\u001b[1m8/8\u001b[0m \u001b[32m━━━━━━━━━━━━━━━━━━━━\u001b[0m\u001b[37m\u001b[0m \u001b[1m0s\u001b[0m 9ms/step - accuracy: 0.6509 - loss: 0.6236 - val_accuracy: 0.6786 - val_loss: 0.6062\n",
      "Epoch 11/50\n",
      "\u001b[1m8/8\u001b[0m \u001b[32m━━━━━━━━━━━━━━━━━━━━\u001b[0m\u001b[37m\u001b[0m \u001b[1m0s\u001b[0m 6ms/step - accuracy: 0.6883 - loss: 0.6110 - val_accuracy: 0.6786 - val_loss: 0.5987\n",
      "Epoch 12/50\n",
      "\u001b[1m8/8\u001b[0m \u001b[32m━━━━━━━━━━━━━━━━━━━━\u001b[0m\u001b[37m\u001b[0m \u001b[1m0s\u001b[0m 6ms/step - accuracy: 0.6805 - loss: 0.6028 - val_accuracy: 0.6786 - val_loss: 0.5906\n",
      "Epoch 13/50\n",
      "\u001b[1m8/8\u001b[0m \u001b[32m━━━━━━━━━━━━━━━━━━━━\u001b[0m\u001b[37m\u001b[0m \u001b[1m0s\u001b[0m 6ms/step - accuracy: 0.7162 - loss: 0.5747 - val_accuracy: 0.6786 - val_loss: 0.5837\n",
      "Epoch 14/50\n",
      "\u001b[1m8/8\u001b[0m \u001b[32m━━━━━━━━━━━━━━━━━━━━\u001b[0m\u001b[37m\u001b[0m \u001b[1m0s\u001b[0m 6ms/step - accuracy: 0.7225 - loss: 0.5721 - val_accuracy: 0.6786 - val_loss: 0.5778\n",
      "Epoch 15/50\n",
      "\u001b[1m8/8\u001b[0m \u001b[32m━━━━━━━━━━━━━━━━━━━━\u001b[0m\u001b[37m\u001b[0m \u001b[1m0s\u001b[0m 5ms/step - accuracy: 0.7251 - loss: 0.5708 - val_accuracy: 0.6786 - val_loss: 0.5714\n",
      "Epoch 16/50\n",
      "\u001b[1m8/8\u001b[0m \u001b[32m━━━━━━━━━━━━━━━━━━━━\u001b[0m\u001b[37m\u001b[0m \u001b[1m0s\u001b[0m 6ms/step - accuracy: 0.7190 - loss: 0.5558 - val_accuracy: 0.6786 - val_loss: 0.5671\n",
      "Epoch 17/50\n",
      "\u001b[1m8/8\u001b[0m \u001b[32m━━━━━━━━━━━━━━━━━━━━\u001b[0m\u001b[37m\u001b[0m \u001b[1m0s\u001b[0m 6ms/step - accuracy: 0.6944 - loss: 0.5686 - val_accuracy: 0.6786 - val_loss: 0.5624\n",
      "Epoch 18/50\n",
      "\u001b[1m8/8\u001b[0m \u001b[32m━━━━━━━━━━━━━━━━━━━━\u001b[0m\u001b[37m\u001b[0m \u001b[1m0s\u001b[0m 5ms/step - accuracy: 0.7176 - loss: 0.5602 - val_accuracy: 0.6786 - val_loss: 0.5586\n",
      "Epoch 19/50\n",
      "\u001b[1m8/8\u001b[0m \u001b[32m━━━━━━━━━━━━━━━━━━━━\u001b[0m\u001b[37m\u001b[0m \u001b[1m0s\u001b[0m 6ms/step - accuracy: 0.6664 - loss: 0.5800 - val_accuracy: 0.6786 - val_loss: 0.5544\n",
      "Epoch 20/50\n",
      "\u001b[1m8/8\u001b[0m \u001b[32m━━━━━━━━━━━━━━━━━━━━\u001b[0m\u001b[37m\u001b[0m \u001b[1m0s\u001b[0m 6ms/step - accuracy: 0.7134 - loss: 0.5382 - val_accuracy: 0.6786 - val_loss: 0.5511\n",
      "Epoch 21/50\n",
      "\u001b[1m8/8\u001b[0m \u001b[32m━━━━━━━━━━━━━━━━━━━━\u001b[0m\u001b[37m\u001b[0m \u001b[1m0s\u001b[0m 6ms/step - accuracy: 0.6496 - loss: 0.5748 - val_accuracy: 0.6786 - val_loss: 0.5494\n",
      "Epoch 22/50\n",
      "\u001b[1m8/8\u001b[0m \u001b[32m━━━━━━━━━━━━━━━━━━━━\u001b[0m\u001b[37m\u001b[0m \u001b[1m0s\u001b[0m 5ms/step - accuracy: 0.7002 - loss: 0.5290 - val_accuracy: 0.6786 - val_loss: 0.5469\n",
      "Epoch 23/50\n",
      "\u001b[1m8/8\u001b[0m \u001b[32m━━━━━━━━━━━━━━━━━━━━\u001b[0m\u001b[37m\u001b[0m \u001b[1m0s\u001b[0m 7ms/step - accuracy: 0.6857 - loss: 0.5493 - val_accuracy: 0.6429 - val_loss: 0.5446\n",
      "Epoch 24/50\n",
      "\u001b[1m8/8\u001b[0m \u001b[32m━━━━━━━━━━━━━━━━━━━━\u001b[0m\u001b[37m\u001b[0m \u001b[1m0s\u001b[0m 8ms/step - accuracy: 0.7141 - loss: 0.5369 - val_accuracy: 0.6429 - val_loss: 0.5442\n",
      "Epoch 25/50\n",
      "\u001b[1m8/8\u001b[0m \u001b[32m━━━━━━━━━━━━━━━━━━━━\u001b[0m\u001b[37m\u001b[0m \u001b[1m0s\u001b[0m 6ms/step - accuracy: 0.7192 - loss: 0.5369 - val_accuracy: 0.6429 - val_loss: 0.5430\n",
      "Epoch 26/50\n",
      "\u001b[1m8/8\u001b[0m \u001b[32m━━━━━━━━━━━━━━━━━━━━\u001b[0m\u001b[37m\u001b[0m \u001b[1m0s\u001b[0m 6ms/step - accuracy: 0.6812 - loss: 0.5782 - val_accuracy: 0.6786 - val_loss: 0.5421\n",
      "Epoch 27/50\n",
      "\u001b[1m8/8\u001b[0m \u001b[32m━━━━━━━━━━━━━━━━━━━━\u001b[0m\u001b[37m\u001b[0m \u001b[1m0s\u001b[0m 6ms/step - accuracy: 0.6729 - loss: 0.5773 - val_accuracy: 0.6786 - val_loss: 0.5412\n",
      "Epoch 28/50\n",
      "\u001b[1m8/8\u001b[0m \u001b[32m━━━━━━━━━━━━━━━━━━━━\u001b[0m\u001b[37m\u001b[0m \u001b[1m0s\u001b[0m 6ms/step - accuracy: 0.7041 - loss: 0.5471 - val_accuracy: 0.6786 - val_loss: 0.5408\n",
      "Epoch 29/50\n",
      "\u001b[1m8/8\u001b[0m \u001b[32m━━━━━━━━━━━━━━━━━━━━\u001b[0m\u001b[37m\u001b[0m \u001b[1m0s\u001b[0m 6ms/step - accuracy: 0.6696 - loss: 0.5467 - val_accuracy: 0.6786 - val_loss: 0.5390\n",
      "Epoch 30/50\n",
      "\u001b[1m8/8\u001b[0m \u001b[32m━━━━━━━━━━━━━━━━━━━━\u001b[0m\u001b[37m\u001b[0m \u001b[1m0s\u001b[0m 6ms/step - accuracy: 0.7234 - loss: 0.5178 - val_accuracy: 0.6786 - val_loss: 0.5387\n",
      "Epoch 31/50\n",
      "\u001b[1m8/8\u001b[0m \u001b[32m━━━━━━━━━━━━━━━━━━━━\u001b[0m\u001b[37m\u001b[0m \u001b[1m0s\u001b[0m 6ms/step - accuracy: 0.6994 - loss: 0.5397 - val_accuracy: 0.6786 - val_loss: 0.5373\n",
      "Epoch 32/50\n",
      "\u001b[1m8/8\u001b[0m \u001b[32m━━━━━━━━━━━━━━━━━━━━\u001b[0m\u001b[37m\u001b[0m \u001b[1m0s\u001b[0m 6ms/step - accuracy: 0.6958 - loss: 0.5714 - val_accuracy: 0.6786 - val_loss: 0.5366\n",
      "Epoch 33/50\n",
      "\u001b[1m8/8\u001b[0m \u001b[32m━━━━━━━━━━━━━━━━━━━━\u001b[0m\u001b[37m\u001b[0m \u001b[1m0s\u001b[0m 5ms/step - accuracy: 0.6801 - loss: 0.5347 - val_accuracy: 0.6786 - val_loss: 0.5356\n",
      "Epoch 34/50\n",
      "\u001b[1m8/8\u001b[0m \u001b[32m━━━━━━━━━━━━━━━━━━━━\u001b[0m\u001b[37m\u001b[0m \u001b[1m0s\u001b[0m 7ms/step - accuracy: 0.6789 - loss: 0.5449 - val_accuracy: 0.6429 - val_loss: 0.5336\n",
      "Epoch 35/50\n",
      "\u001b[1m8/8\u001b[0m \u001b[32m━━━━━━━━━━━━━━━━━━━━\u001b[0m\u001b[37m\u001b[0m \u001b[1m0s\u001b[0m 5ms/step - accuracy: 0.7073 - loss: 0.5307 - val_accuracy: 0.6429 - val_loss: 0.5325\n",
      "Epoch 36/50\n",
      "\u001b[1m8/8\u001b[0m \u001b[32m━━━━━━━━━━━━━━━━━━━━\u001b[0m\u001b[37m\u001b[0m \u001b[1m0s\u001b[0m 6ms/step - accuracy: 0.6922 - loss: 0.5222 - val_accuracy: 0.6429 - val_loss: 0.5320\n",
      "Epoch 37/50\n",
      "\u001b[1m8/8\u001b[0m \u001b[32m━━━━━━━━━━━━━━━━━━━━\u001b[0m\u001b[37m\u001b[0m \u001b[1m0s\u001b[0m 8ms/step - accuracy: 0.7108 - loss: 0.5247 - val_accuracy: 0.6429 - val_loss: 0.5317\n",
      "Epoch 38/50\n",
      "\u001b[1m8/8\u001b[0m \u001b[32m━━━━━━━━━━━━━━━━━━━━\u001b[0m\u001b[37m\u001b[0m \u001b[1m0s\u001b[0m 5ms/step - accuracy: 0.6993 - loss: 0.5306 - val_accuracy: 0.6429 - val_loss: 0.5317\n",
      "Epoch 39/50\n",
      "\u001b[1m8/8\u001b[0m \u001b[32m━━━━━━━━━━━━━━━━━━━━\u001b[0m\u001b[37m\u001b[0m \u001b[1m0s\u001b[0m 5ms/step - accuracy: 0.6940 - loss: 0.5204 - val_accuracy: 0.6429 - val_loss: 0.5306\n",
      "Epoch 40/50\n",
      "\u001b[1m8/8\u001b[0m \u001b[32m━━━━━━━━━━━━━━━━━━━━\u001b[0m\u001b[37m\u001b[0m \u001b[1m0s\u001b[0m 6ms/step - accuracy: 0.6607 - loss: 0.5692 - val_accuracy: 0.6071 - val_loss: 0.5289\n",
      "Epoch 41/50\n",
      "\u001b[1m8/8\u001b[0m \u001b[32m━━━━━━━━━━━━━━━━━━━━\u001b[0m\u001b[37m\u001b[0m \u001b[1m0s\u001b[0m 6ms/step - accuracy: 0.7115 - loss: 0.5350 - val_accuracy: 0.6071 - val_loss: 0.5276\n",
      "Epoch 42/50\n",
      "\u001b[1m8/8\u001b[0m \u001b[32m━━━━━━━━━━━━━━━━━━━━\u001b[0m\u001b[37m\u001b[0m \u001b[1m0s\u001b[0m 8ms/step - accuracy: 0.6637 - loss: 0.5549 - val_accuracy: 0.6071 - val_loss: 0.5258\n",
      "Epoch 43/50\n",
      "\u001b[1m8/8\u001b[0m \u001b[32m━━━━━━━━━━━━━━━━━━━━\u001b[0m\u001b[37m\u001b[0m \u001b[1m0s\u001b[0m 5ms/step - accuracy: 0.7129 - loss: 0.5223 - val_accuracy: 0.6071 - val_loss: 0.5260\n",
      "Epoch 44/50\n",
      "\u001b[1m8/8\u001b[0m \u001b[32m━━━━━━━━━━━━━━━━━━━━\u001b[0m\u001b[37m\u001b[0m \u001b[1m0s\u001b[0m 6ms/step - accuracy: 0.7380 - loss: 0.5169 - val_accuracy: 0.6071 - val_loss: 0.5234\n",
      "Epoch 45/50\n",
      "\u001b[1m8/8\u001b[0m \u001b[32m━━━━━━━━━━━━━━━━━━━━\u001b[0m\u001b[37m\u001b[0m \u001b[1m0s\u001b[0m 6ms/step - accuracy: 0.6716 - loss: 0.5583 - val_accuracy: 0.6071 - val_loss: 0.5222\n",
      "Epoch 46/50\n",
      "\u001b[1m8/8\u001b[0m \u001b[32m━━━━━━━━━━━━━━━━━━━━\u001b[0m\u001b[37m\u001b[0m \u001b[1m0s\u001b[0m 5ms/step - accuracy: 0.6276 - loss: 0.5647 - val_accuracy: 0.6071 - val_loss: 0.5207\n",
      "Epoch 47/50\n",
      "\u001b[1m8/8\u001b[0m \u001b[32m━━━━━━━━━━━━━━━━━━━━\u001b[0m\u001b[37m\u001b[0m \u001b[1m0s\u001b[0m 5ms/step - accuracy: 0.7199 - loss: 0.4986 - val_accuracy: 0.6071 - val_loss: 0.5190\n",
      "Epoch 48/50\n",
      "\u001b[1m8/8\u001b[0m \u001b[32m━━━━━━━━━━━━━━━━━━━━\u001b[0m\u001b[37m\u001b[0m \u001b[1m0s\u001b[0m 6ms/step - accuracy: 0.7064 - loss: 0.5189 - val_accuracy: 0.6429 - val_loss: 0.5165\n",
      "Epoch 49/50\n",
      "\u001b[1m8/8\u001b[0m \u001b[32m━━━━━━━━━━━━━━━━━━━━\u001b[0m\u001b[37m\u001b[0m \u001b[1m0s\u001b[0m 6ms/step - accuracy: 0.6878 - loss: 0.5158 - val_accuracy: 0.6429 - val_loss: 0.5167\n",
      "Epoch 50/50\n",
      "\u001b[1m8/8\u001b[0m \u001b[32m━━━━━━━━━━━━━━━━━━━━\u001b[0m\u001b[37m\u001b[0m \u001b[1m0s\u001b[0m 5ms/step - accuracy: 0.6812 - loss: 0.5474 - val_accuracy: 0.6429 - val_loss: 0.5166\n"
     ]
    },
    {
     "data": {
      "text/plain": [
       "<keras.src.callbacks.history.History at 0x2ba51dece90>"
      ]
     },
     "execution_count": 811,
     "metadata": {},
     "output_type": "execute_result"
    }
   ],
   "source": [
    "# Train the model with training data\n",
    "model.fit(X_train_rnn, y_train, epochs=50, batch_size=32, validation_split=0.1, verbose=1)"
   ]
  },
  {
   "cell_type": "code",
   "execution_count": 812,
   "id": "9ba7c9dc",
   "metadata": {},
   "outputs": [
    {
     "name": "stdout",
     "output_type": "stream",
     "text": [
      "\u001b[1m3/3\u001b[0m \u001b[32m━━━━━━━━━━━━━━━━━━━━\u001b[0m\u001b[37m\u001b[0m \u001b[1m0s\u001b[0m 59ms/step\n"
     ]
    }
   ],
   "source": [
    "# Make predictions on the test set\n",
    "y_pred_prob = model.predict(X_test_rnn)\n",
    "y_pred = (y_pred_prob > 0.5).astype(\"int32\")  # Convert probabilities to 0 or 1"
   ]
  },
  {
   "cell_type": "code",
   "execution_count": 813,
   "id": "1669edef",
   "metadata": {},
   "outputs": [
    {
     "name": "stdout",
     "output_type": "stream",
     "text": [
      "Accuracy: 0.6176470588235294\n",
      "Precision: 0.5454545454545454\n",
      "Recall: 0.42857142857142855\n",
      "F1 Score: 0.4799999999999999\n"
     ]
    }
   ],
   "source": [
    "# Calculate accuracy of the model\n",
    "accuracy = accuracy_score(y_test, y_pred)\n",
    "print(f\"Accuracy: {accuracy}\")\n",
    "\n",
    "# Calculate precision, recall, and F1 score\n",
    "precision = precision_score(y_test, y_pred)\n",
    "recall = recall_score(y_test, y_pred)\n",
    "f1 = f1_score(y_test, y_pred)\n",
    "\n",
    "# Print precision, recall, and F1 score\n",
    "print(\"Precision:\", precision)\n",
    "print(\"Recall:\", recall)\n",
    "print(\"F1 Score:\", f1)"
   ]
  },
  {
   "cell_type": "markdown",
   "id": "2d81a20d",
   "metadata": {},
   "source": [
    "# Model Evaluation"
   ]
  },
  {
   "cell_type": "code",
   "execution_count": 817,
   "id": "8ce93a74",
   "metadata": {},
   "outputs": [
    {
     "data": {
      "image/png": "[encoded data removed]",
      "text/plain": [
       "<Figure size 1000x1000 with 1 Axes>"
      ]
     },
     "metadata": {},
     "output_type": "display_data"
    }
   ],
   "source": [
    "# Load the image\n",
    "img = Image.open(\"Model Evaluation.png\")  # replace with your image path\n",
    "\n",
    "# Create a larger figure\n",
    "plt.figure(figsize=(10, 10))\n",
    "\n",
    "# Display the image\n",
    "plt.imshow(img)\n",
    "plt.axis('off')  # Turn off axis labels\n",
    "plt.show()"
   ]
  },
  {
   "cell_type": "code",
   "execution_count": null,
   "id": "38640e60",
   "metadata": {},
   "outputs": [],
   "source": [
    "# Save the model\n",
    "joblib.dump(svc_clf, 'BB_svm_model.pkl')"
   ]
  },
  {
   "cell_type": "code",
   "execution_count": 6,
   "id": "76c5d8c6",
   "metadata": {},
   "outputs": [],
   "source": [
    "# Load the model\n",
    "loaded_model = joblib.load('BB_svm_model.pkl')"
   ]
  },
  {
   "cell_type": "code",
   "execution_count": 7,
   "id": "81f2272f",
   "metadata": {},
   "outputs": [
    {
     "name": "stdout",
     "output_type": "stream",
     "text": [
      "[1]\n"
     ]
    },
    {
     "name": "stderr",
     "output_type": "stream",
     "text": [
      "C:\\Users\\Thinithi\\anaconda3\\Lib\\site-packages\\sklearn\\base.py:464: UserWarning: X does not have valid feature names, but SVC was fitted with feature names\n",
      "  warnings.warn(\n"
     ]
    }
   ],
   "source": [
    "X_test = [9,10.7,32.1,0.0,23,4.0,15]\n",
    "\n",
    "# Reshape it to a 2D array\n",
    "X_test = np.array(X_test).reshape(1, -1)\n",
    "\n",
    "# Use the loaded model to make predictions\n",
    "y_pred = loaded_model.predict(X_test)\n",
    "print(y_pred)"
   ]
  },
  {
   "cell_type": "code",
   "execution_count": 11,
   "id": "34323f48",
   "metadata": {},
   "outputs": [
    {
     "name": "stdout",
     "output_type": "stream",
     "text": [
      "Probabilities: [[0.29005412 0.70994588]]\n",
      "[0.70994588]\n"
     ]
    },
    {
     "name": "stderr",
     "output_type": "stream",
     "text": [
      "C:\\Users\\Thinithi\\anaconda3\\Lib\\site-packages\\sklearn\\base.py:464: UserWarning: X does not have valid feature names, but SVC was fitted with feature names\n",
      "  warnings.warn(\n"
     ]
    }
   ],
   "source": [
    "# Get probability estimates\n",
    "probabilities = loaded_model.predict_proba(X_test)\n",
    "print(\"Probabilities:\", probabilities)\n",
    "print(probabilities[:,1])"
   ]
  },
  {
   "cell_type": "code",
   "execution_count": 12,
   "id": "8945c919",
   "metadata": {},
   "outputs": [
    {
     "name": "stdout",
     "output_type": "stream",
     "text": [
      "[0]\n"
     ]
    },
    {
     "name": "stderr",
     "output_type": "stream",
     "text": [
      "C:\\Users\\Thinithi\\anaconda3\\Lib\\site-packages\\sklearn\\base.py:464: UserWarning: X does not have valid feature names, but SVC was fitted with feature names\n",
      "  warnings.warn(\n"
     ]
    }
   ],
   "source": [
    "X_test = [5,9.2,20.7,0.2,61,6.0,61]\n",
    "\n",
    "# Reshape it to a 2D array\n",
    "X_test = np.array(X_test).reshape(1, -1)\n",
    "\n",
    "# Use the loaded model to make predictions\n",
    "y_pred = loaded_model.predict(X_test)\n",
    "print(y_pred)"
   ]
  },
  {
   "cell_type": "code",
   "execution_count": 14,
   "id": "390bc6b2",
   "metadata": {},
   "outputs": [
    {
     "name": "stdout",
     "output_type": "stream",
     "text": [
      "Probabilities: [[0.63029646 0.36970354]]\n",
      "[0.63029646]\n"
     ]
    },
    {
     "name": "stderr",
     "output_type": "stream",
     "text": [
      "C:\\Users\\Thinithi\\anaconda3\\Lib\\site-packages\\sklearn\\base.py:464: UserWarning: X does not have valid feature names, but SVC was fitted with feature names\n",
      "  warnings.warn(\n"
     ]
    }
   ],
   "source": [
    "# Get probability estimates\n",
    "probabilities = loaded_model.predict_proba(X_test)\n",
    "print(\"Probabilities:\", probabilities)\n",
    "print(probabilities[:,0])"
   ]
  },
  {
   "cell_type": "markdown",
   "id": "2783ed04",
   "metadata": {},
   "source": [
    "# Hyper Parameter Tuning"
   ]
  },
  {
   "cell_type": "code",
   "execution_count": 43,
   "id": "1d0a9a0a",
   "metadata": {},
   "outputs": [],
   "source": [
    "# Define the parameter grid for tuning\n",
    "param_grid = {\n",
    "    'C': [0.1, 1, 10, 100],  # Regularization parameter\n",
    "    'gamma': ['scale', 'auto', 0.001, 0.01, 0.1],  # Kernel coefficient\n",
    "    'kernel': ['rbf', 'linear'],  # Types of kernel\n",
    "    'degree': [2, 3, 4]  # Degree for polynomial kernel\n",
    "}"
   ]
  },
  {
   "cell_type": "code",
   "execution_count": 44,
   "id": "cb0f4072",
   "metadata": {},
   "outputs": [],
   "source": [
    "# Initialize the SVC classifier\n",
    "svc_clf = SVC(class_weight='balanced', probability=True, random_state=0)"
   ]
  },
  {
   "cell_type": "code",
   "execution_count": null,
   "id": "24ac23f5",
   "metadata": {},
   "outputs": [
    {
     "name": "stdout",
     "output_type": "stream",
     "text": [
      "Fitting 5 folds for each of 120 candidates, totalling 600 fits\n"
     ]
    }
   ],
   "source": [
    "# Initialize GridSearchCV\n",
    "grid_search = GridSearchCV(estimator=svc_clf, param_grid=param_grid,\n",
    "                           scoring='accuracy', cv=5, n_jobs=-1, verbose=1)\n",
    "\n",
    "# Fit GridSearchCV\n",
    "grid_search.fit(X_train, y_train.values.ravel())\n",
    "\n",
    "# Retrieve the best parameters\n",
    "best_params = grid_search.best_params_\n",
    "best_score = grid_search.best_score_\n",
    "\n",
    "print(\"Best Parameters:\", best_params)\n",
    "print(\"Best Cross-Validation Score:\", best_score)"
   ]
  },
  {
   "cell_type": "code",
   "execution_count": null,
   "id": "db9dcb03",
   "metadata": {},
   "outputs": [],
   "source": []
  }
 ],
 "metadata": {
  "kernelspec": {
   "display_name": "Python 3 (ipykernel)",
   "language": "python",
   "name": "python3"
  },
  "language_info": {
   "codemirror_mode": {
    "name": "ipython",
    "version": 3
   },
   "file_extension": ".py",
   "mimetype": "text/x-python",
   "name": "python",
   "nbconvert_exporter": "python",
   "pygments_lexer": "ipython3",
   "version": "3.11.5"
  },
  "varInspector": {
   "cols": {
    "lenName": 16,
    "lenType": 16,
    "lenVar": 40
   },
   "kernels_config": {
    "python": {
     "delete_cmd_postfix": "",
     "delete_cmd_prefix": "del ",
     "library": "var_list.py",
     "varRefreshCmd": "print(var_dic_list())"
    },
    "r": {
     "delete_cmd_postfix": ") ",
     "delete_cmd_prefix": "rm(",
     "library": "var_list.r",
     "varRefreshCmd": "cat(var_dic_list()) "
    }
   },
   "types_to_exclude": [
    "module",
    "function",
    "builtin_function_or_method",
    "instance",
    "_Feature"
   ],
   "window_display": false
  }
 },
 "nbformat": 4,
 "nbformat_minor": 5
}
